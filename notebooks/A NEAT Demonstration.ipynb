{
 "cells": [
  {
   "cell_type": "markdown",
   "id": "e3db5e3b",
   "metadata": {},
   "source": [
    "# A NEAT Demonstration"
   ]
  },
  {
   "cell_type": "markdown",
   "id": "87d50a95",
   "metadata": {},
   "source": [
    "NEAT provides a way to define graph machine learning tasks with minimal coding, an uncomplicated interface, and a process created with cloud compute in mind.\n",
    "\n",
    "This notebook provides a demonstration of how to set up a NEAT configuration file. We define the values for parameters, write them to a YAML file, then pass that file to NEAT to generate graph embeddings.\n",
    "\n",
    "You're likely reading this notebook while within the NEAT repository. If you haven't installed NEAT yet, please do so now using the next code block."
   ]
  },
  {
   "cell_type": "code",
   "execution_count": 5,
   "id": "18da8d71",
   "metadata": {},
   "outputs": [
    {
     "name": "stdout",
     "output_type": "stream",
     "text": [
      "/home/harry/NEAT\n",
      "/usr/lib/python3/dist-packages/secretstorage/dhcrypto.py:15: CryptographyDeprecationWarning: int_from_bytes is deprecated, use int.from_bytes instead\n",
      "  from cryptography.utils import int_from_bytes\n",
      "/usr/lib/python3/dist-packages/secretstorage/util.py:19: CryptographyDeprecationWarning: int_from_bytes is deprecated, use int.from_bytes instead\n",
      "  from cryptography.utils import int_from_bytes\n",
      "Processing /home/harry/NEAT\n",
      "Requirement already satisfied: tqdm in /home/harry/.local/lib/python3.8/site-packages (from neat==0.0.1) (4.63.0)\n",
      "Requirement already satisfied: click in /home/harry/.local/lib/python3.8/site-packages (from neat==0.0.1) (8.0.3)\n",
      "Requirement already satisfied: pyyaml in /usr/lib/python3/dist-packages (from neat==0.0.1) (5.3.1)\n",
      "Requirement already satisfied: tensorflow in /home/harry/.local/lib/python3.8/site-packages (from neat==0.0.1) (2.8.0)\n",
      "Requirement already satisfied: ensmallen==0.6.6 in /home/harry/.local/lib/python3.8/site-packages (from neat==0.0.1) (0.6.6)\n",
      "Requirement already satisfied: opencv-python in /home/harry/.local/lib/python3.8/site-packages (from neat==0.0.1) (4.5.5.62)\n",
      "Requirement already satisfied: embiggen==0.9.3 in /home/harry/.local/lib/python3.8/site-packages (from neat==0.0.1) (0.9.3)\n",
      "Requirement already satisfied: numpy in /home/harry/.local/lib/python3.8/site-packages (from neat==0.0.1) (1.21.2)\n",
      "Requirement already satisfied: matplotlib in /home/harry/.local/lib/python3.8/site-packages (from neat==0.0.1) (3.5.1)\n",
      "Requirement already satisfied: sanitize_ml_labels in /home/harry/.local/lib/python3.8/site-packages (from neat==0.0.1) (1.0.29)\n",
      "Requirement already satisfied: sklearn in /home/harry/.local/lib/python3.8/site-packages (from neat==0.0.1) (0.0)\n",
      "Requirement already satisfied: pandas in /home/harry/.local/lib/python3.8/site-packages (from neat==0.0.1) (1.4.0)\n",
      "Requirement already satisfied: transformers in /home/harry/.local/lib/python3.8/site-packages (from neat==0.0.1) (4.16.2)\n",
      "Requirement already satisfied: torch in /home/harry/.local/lib/python3.8/site-packages (from neat==0.0.1) (1.10.2)\n",
      "Requirement already satisfied: boto3 in /home/harry/.local/lib/python3.8/site-packages (from neat==0.0.1) (1.18.42)\n",
      "Requirement already satisfied: botocore in /home/harry/.local/lib/python3.8/site-packages (from neat==0.0.1) (1.21.42)\n",
      "Requirement already satisfied: validators in /home/harry/.local/lib/python3.8/site-packages (from neat==0.0.1) (0.18.2)\n",
      "Requirement already satisfied: libclang>=9.0.1 in /home/harry/.local/lib/python3.8/site-packages (from tensorflow->neat==0.0.1) (13.0.0)\n",
      "Requirement already satisfied: opt-einsum>=2.3.2 in /home/harry/.local/lib/python3.8/site-packages (from tensorflow->neat==0.0.1) (3.3.0)\n",
      "Requirement already satisfied: six>=1.12.0 in /home/harry/.local/lib/python3.8/site-packages (from tensorflow->neat==0.0.1) (1.16.0)\n",
      "Requirement already satisfied: keras<2.9,>=2.8.0rc0 in /home/harry/.local/lib/python3.8/site-packages (from tensorflow->neat==0.0.1) (2.8.0)\n",
      "Requirement already satisfied: tensorflow-io-gcs-filesystem>=0.23.1 in /home/harry/.local/lib/python3.8/site-packages (from tensorflow->neat==0.0.1) (0.24.0)\n",
      "Requirement already satisfied: gast>=0.2.1 in /home/harry/.local/lib/python3.8/site-packages (from tensorflow->neat==0.0.1) (0.4.0)\n",
      "Requirement already satisfied: termcolor>=1.1.0 in /home/harry/.local/lib/python3.8/site-packages (from tensorflow->neat==0.0.1) (1.1.0)\n",
      "Requirement already satisfied: h5py>=2.9.0 in /home/harry/.local/lib/python3.8/site-packages (from tensorflow->neat==0.0.1) (3.6.0)\n",
      "Requirement already satisfied: tf-estimator-nightly==2.8.0.dev2021122109 in /home/harry/.local/lib/python3.8/site-packages (from tensorflow->neat==0.0.1) (2.8.0.dev2021122109)\n",
      "Requirement already satisfied: google-pasta>=0.1.1 in /home/harry/.local/lib/python3.8/site-packages (from tensorflow->neat==0.0.1) (0.2.0)\n",
      "Requirement already satisfied: flatbuffers>=1.12 in /home/harry/.local/lib/python3.8/site-packages (from tensorflow->neat==0.0.1) (1.12)\n",
      "Requirement already satisfied: keras-preprocessing>=1.1.1 in /home/harry/.local/lib/python3.8/site-packages (from tensorflow->neat==0.0.1) (1.1.2)\n",
      "Requirement already satisfied: absl-py>=0.4.0 in /home/harry/.local/lib/python3.8/site-packages (from tensorflow->neat==0.0.1) (1.0.0)\n",
      "Requirement already satisfied: wrapt>=1.11.0 in /home/harry/.local/lib/python3.8/site-packages (from tensorflow->neat==0.0.1) (1.12.1)\n",
      "Requirement already satisfied: typing-extensions>=3.6.6 in /home/harry/.local/lib/python3.8/site-packages (from tensorflow->neat==0.0.1) (3.10.0.2)\n",
      "Requirement already satisfied: astunparse>=1.6.0 in /home/harry/.local/lib/python3.8/site-packages (from tensorflow->neat==0.0.1) (1.6.3)\n",
      "Requirement already satisfied: protobuf>=3.9.2 in /home/harry/.local/lib/python3.8/site-packages (from tensorflow->neat==0.0.1) (3.17.3)\n",
      "Requirement already satisfied: grpcio<2.0,>=1.24.3 in /home/harry/.local/lib/python3.8/site-packages (from tensorflow->neat==0.0.1) (1.39.0)\n",
      "Requirement already satisfied: tensorboard<2.9,>=2.8 in /home/harry/.local/lib/python3.8/site-packages (from tensorflow->neat==0.0.1) (2.8.0)\n",
      "Requirement already satisfied: setuptools in /home/harry/.local/lib/python3.8/site-packages (from tensorflow->neat==0.0.1) (60.10.0)\n",
      "Requirement already satisfied: userinput in /home/harry/.local/lib/python3.8/site-packages (from ensmallen==0.6.6->neat==0.0.1) (1.0.15)\n",
      "Requirement already satisfied: compress_json in /home/harry/.local/lib/python3.8/site-packages (from ensmallen==0.6.6->neat==0.0.1) (1.0.4)\n",
      "Requirement already satisfied: environments_utils in /home/harry/.local/lib/python3.8/site-packages (from ensmallen==0.6.6->neat==0.0.1) (1.0.3)\n",
      "Requirement already satisfied: toml~=0.10.0 in /home/harry/.local/lib/python3.8/site-packages (from ensmallen==0.6.6->neat==0.0.1) (0.10.2)\n",
      "Requirement already satisfied: downloaders in /home/harry/.local/lib/python3.8/site-packages (from ensmallen==0.6.6->neat==0.0.1) (1.0.13)\n",
      "Requirement already satisfied: py-cpuinfo in /home/harry/.local/lib/python3.8/site-packages (from ensmallen==0.6.6->neat==0.0.1) (8.0.0)\n",
      "Requirement already satisfied: extra-keras-metrics>=2.0.2 in /home/harry/.local/lib/python3.8/site-packages (from embiggen==0.9.3->neat==0.0.1) (2.0.5)\n",
      "Requirement already satisfied: packaging in /home/harry/.local/lib/python3.8/site-packages (from embiggen==0.9.3->neat==0.0.1) (21.0)\n",
      "Requirement already satisfied: cache-decorator>=2.0.2 in /home/harry/.local/lib/python3.8/site-packages (from embiggen==0.9.3->neat==0.0.1) (2.0.6)\n",
      "Requirement already satisfied: keras-mixed-sequence>=1.0.27 in /home/harry/.local/lib/python3.8/site-packages (from embiggen==0.9.3->neat==0.0.1) (1.0.28)\n",
      "Requirement already satisfied: ddd-subplots>=1.0.7 in /home/harry/.local/lib/python3.8/site-packages (from embiggen==0.9.3->neat==0.0.1) (1.0.19)\n",
      "Requirement already satisfied: validate-version-code in /home/harry/.local/lib/python3.8/site-packages (from embiggen==0.9.3->neat==0.0.1) (1.0.4)\n",
      "Requirement already satisfied: python-dateutil>=2.7 in /home/harry/.local/lib/python3.8/site-packages (from matplotlib->neat==0.0.1) (2.8.2)\n",
      "Requirement already satisfied: kiwisolver>=1.0.1 in /home/harry/.local/lib/python3.8/site-packages (from matplotlib->neat==0.0.1) (1.3.2)\n",
      "Requirement already satisfied: pyparsing>=2.2.1 in /home/harry/.local/lib/python3.8/site-packages (from matplotlib->neat==0.0.1) (2.4.7)\n",
      "Requirement already satisfied: pillow>=6.2.0 in /home/harry/.local/lib/python3.8/site-packages (from matplotlib->neat==0.0.1) (8.3.1)\n",
      "Requirement already satisfied: fonttools>=4.22.0 in /home/harry/.local/lib/python3.8/site-packages (from matplotlib->neat==0.0.1) (4.29.1)\n",
      "Requirement already satisfied: cycler>=0.10 in /home/harry/.local/lib/python3.8/site-packages (from matplotlib->neat==0.0.1) (0.11.0)\n",
      "Requirement already satisfied: scikit-learn in /home/harry/.local/lib/python3.8/site-packages (from sklearn->neat==0.0.1) (0.24.2)\n",
      "Requirement already satisfied: pytz>=2020.1 in /home/harry/.local/lib/python3.8/site-packages (from pandas->neat==0.0.1) (2021.1)\n",
      "Requirement already satisfied: sacremoses in /home/harry/.local/lib/python3.8/site-packages (from transformers->neat==0.0.1) (0.0.47)\n",
      "Requirement already satisfied: huggingface-hub<1.0,>=0.1.0 in /home/harry/.local/lib/python3.8/site-packages (from transformers->neat==0.0.1) (0.4.0)\n",
      "Requirement already satisfied: requests in /usr/lib/python3/dist-packages (from transformers->neat==0.0.1) (2.22.0)\n",
      "Requirement already satisfied: tokenizers!=0.11.3,>=0.10.1 in /home/harry/.local/lib/python3.8/site-packages (from transformers->neat==0.0.1) (0.11.4)\n",
      "Requirement already satisfied: regex!=2019.12.17 in /home/harry/.local/lib/python3.8/site-packages (from transformers->neat==0.0.1) (2021.8.28)\n",
      "Requirement already satisfied: filelock in /home/harry/.local/lib/python3.8/site-packages (from transformers->neat==0.0.1) (3.0.12)\n",
      "Requirement already satisfied: s3transfer<0.6.0,>=0.5.0 in /home/harry/.local/lib/python3.8/site-packages (from boto3->neat==0.0.1) (0.5.0)\n",
      "Requirement already satisfied: jmespath<1.0.0,>=0.7.1 in /home/harry/.local/lib/python3.8/site-packages (from boto3->neat==0.0.1) (0.10.0)\n",
      "Requirement already satisfied: urllib3<1.27,>=1.25.4 in /home/harry/.local/lib/python3.8/site-packages (from botocore->neat==0.0.1) (1.26.8)\n",
      "Requirement already satisfied: decorator>=3.4.0 in /home/harry/.local/lib/python3.8/site-packages (from validators->neat==0.0.1) (5.1.1)\n",
      "Requirement already satisfied: wheel<1.0,>=0.23.0 in /usr/lib/python3/dist-packages (from astunparse>=1.6.0->tensorflow->neat==0.0.1) (0.34.2)\n",
      "Requirement already satisfied: google-auth<3,>=1.6.3 in /home/harry/.local/lib/python3.8/site-packages (from tensorboard<2.9,>=2.8->tensorflow->neat==0.0.1) (2.6.0)\n",
      "Requirement already satisfied: google-auth-oauthlib<0.5,>=0.4.1 in /home/harry/.local/lib/python3.8/site-packages (from tensorboard<2.9,>=2.8->tensorflow->neat==0.0.1) (0.4.5)\n",
      "Requirement already satisfied: markdown>=2.6.8 in /home/harry/.local/lib/python3.8/site-packages (from tensorboard<2.9,>=2.8->tensorflow->neat==0.0.1) (3.3.4)\n",
      "Requirement already satisfied: tensorboard-data-server<0.7.0,>=0.6.0 in /home/harry/.local/lib/python3.8/site-packages (from tensorboard<2.9,>=2.8->tensorflow->neat==0.0.1) (0.6.1)\n",
      "Requirement already satisfied: werkzeug>=0.11.15 in /home/harry/.local/lib/python3.8/site-packages (from tensorboard<2.9,>=2.8->tensorflow->neat==0.0.1) (2.0.1)\n",
      "Requirement already satisfied: tensorboard-plugin-wit>=1.6.0 in /home/harry/.local/lib/python3.8/site-packages (from tensorboard<2.9,>=2.8->tensorflow->neat==0.0.1) (1.8.0)\n",
      "Requirement already satisfied: IPy in /home/harry/.local/lib/python3.8/site-packages (from userinput->ensmallen==0.6.6->neat==0.0.1) (1.1)\n",
      "Requirement already satisfied: ipython in /home/harry/.local/lib/python3.8/site-packages (from userinput->ensmallen==0.6.6->neat==0.0.1) (8.1.1)\n",
      "Requirement already satisfied: validate-email in /home/harry/.local/lib/python3.8/site-packages (from userinput->ensmallen==0.6.6->neat==0.0.1) (1.3)\n",
      "Requirement already satisfied: dict-hash>=1.1.16 in /home/harry/.local/lib/python3.8/site-packages (from cache-decorator>=2.0.2->embiggen==0.9.3->neat==0.0.1) (1.1.16)\n",
      "Requirement already satisfied: humanize in /home/harry/.local/lib/python3.8/site-packages (from cache-decorator>=2.0.2->embiggen==0.9.3->neat==0.0.1) (3.14.0)\n",
      "Requirement already satisfied: deflate-dict in /home/harry/.local/lib/python3.8/site-packages (from cache-decorator>=2.0.2->embiggen==0.9.3->neat==0.0.1) (1.0.9)\n",
      "Requirement already satisfied: compress-pickle in /home/harry/.local/lib/python3.8/site-packages (from cache-decorator>=2.0.2->embiggen==0.9.3->neat==0.0.1) (2.1.0)\n",
      "Requirement already satisfied: imageio in /home/harry/.local/lib/python3.8/site-packages (from ddd-subplots>=1.0.7->embiggen==0.9.3->neat==0.0.1) (2.9.0)\n",
      "Requirement already satisfied: pygifsicle in /home/harry/.local/lib/python3.8/site-packages (from ddd-subplots>=1.0.7->embiggen==0.9.3->neat==0.0.1) (1.0.4)\n",
      "Requirement already satisfied: joblib>=0.11 in /home/harry/.local/lib/python3.8/site-packages (from scikit-learn->sklearn->neat==0.0.1) (1.1.0)\n",
      "Requirement already satisfied: scipy>=0.19.1 in /home/harry/.local/lib/python3.8/site-packages (from scikit-learn->sklearn->neat==0.0.1) (1.8.0)\n",
      "Requirement already satisfied: threadpoolctl>=2.0.0 in /home/harry/.local/lib/python3.8/site-packages (from scikit-learn->sklearn->neat==0.0.1) (3.1.0)\n",
      "Requirement already satisfied: rsa<5,>=3.1.4; python_version >= \"3.6\" in /usr/lib/python3/dist-packages (from google-auth<3,>=1.6.3->tensorboard<2.9,>=2.8->tensorflow->neat==0.0.1) (4.0)\n",
      "Requirement already satisfied: pyasn1-modules>=0.2.1 in /usr/lib/python3/dist-packages (from google-auth<3,>=1.6.3->tensorboard<2.9,>=2.8->tensorflow->neat==0.0.1) (0.2.1)\n",
      "Requirement already satisfied: cachetools<6.0,>=2.0.0 in /home/harry/.local/lib/python3.8/site-packages (from google-auth<3,>=1.6.3->tensorboard<2.9,>=2.8->tensorflow->neat==0.0.1) (4.2.2)\n",
      "Requirement already satisfied: requests-oauthlib>=0.7.0 in /home/harry/.local/lib/python3.8/site-packages (from google-auth-oauthlib<0.5,>=0.4.1->tensorboard<2.9,>=2.8->tensorflow->neat==0.0.1) (1.3.1)\n",
      "Requirement already satisfied: stack-data in /home/harry/.local/lib/python3.8/site-packages (from ipython->userinput->ensmallen==0.6.6->neat==0.0.1) (0.2.0)\n",
      "Requirement already satisfied: prompt-toolkit!=3.0.0,!=3.0.1,<3.1.0,>=2.0.0 in /home/harry/.local/lib/python3.8/site-packages (from ipython->userinput->ensmallen==0.6.6->neat==0.0.1) (3.0.28)\n",
      "Requirement already satisfied: pygments>=2.4.0 in /home/harry/.local/lib/python3.8/site-packages (from ipython->userinput->ensmallen==0.6.6->neat==0.0.1) (2.11.2)\n",
      "Requirement already satisfied: pickleshare in /home/harry/.local/lib/python3.8/site-packages (from ipython->userinput->ensmallen==0.6.6->neat==0.0.1) (0.7.5)\n",
      "Requirement already satisfied: jedi>=0.16 in /home/harry/.local/lib/python3.8/site-packages (from ipython->userinput->ensmallen==0.6.6->neat==0.0.1) (0.18.1)\n",
      "Requirement already satisfied: traitlets>=5 in /home/harry/.local/lib/python3.8/site-packages (from ipython->userinput->ensmallen==0.6.6->neat==0.0.1) (5.1.1)\n",
      "Requirement already satisfied: backcall in /home/harry/.local/lib/python3.8/site-packages (from ipython->userinput->ensmallen==0.6.6->neat==0.0.1) (0.2.0)\n",
      "Requirement already satisfied: pexpect>4.3; sys_platform != \"win32\" in /home/harry/.local/lib/python3.8/site-packages (from ipython->userinput->ensmallen==0.6.6->neat==0.0.1) (4.8.0)\n",
      "Requirement already satisfied: matplotlib-inline in /home/harry/.local/lib/python3.8/site-packages (from ipython->userinput->ensmallen==0.6.6->neat==0.0.1) (0.1.3)\n",
      "Requirement already satisfied: oauthlib>=3.0.0 in /usr/lib/python3/dist-packages (from requests-oauthlib>=0.7.0->google-auth-oauthlib<0.5,>=0.4.1->tensorboard<2.9,>=2.8->tensorflow->neat==0.0.1) (3.1.0)\n",
      "Requirement already satisfied: pure-eval in /home/harry/.local/lib/python3.8/site-packages (from stack-data->ipython->userinput->ensmallen==0.6.6->neat==0.0.1) (0.2.2)\n",
      "Requirement already satisfied: asttokens in /home/harry/.local/lib/python3.8/site-packages (from stack-data->ipython->userinput->ensmallen==0.6.6->neat==0.0.1) (2.0.5)\n",
      "Requirement already satisfied: executing in /home/harry/.local/lib/python3.8/site-packages (from stack-data->ipython->userinput->ensmallen==0.6.6->neat==0.0.1) (0.8.3)\n",
      "Requirement already satisfied: wcwidth in /home/harry/.local/lib/python3.8/site-packages (from prompt-toolkit!=3.0.0,!=3.0.1,<3.1.0,>=2.0.0->ipython->userinput->ensmallen==0.6.6->neat==0.0.1) (0.2.5)\n",
      "Requirement already satisfied: parso<0.9.0,>=0.8.0 in /home/harry/.local/lib/python3.8/site-packages (from jedi>=0.16->ipython->userinput->ensmallen==0.6.6->neat==0.0.1) (0.8.3)\n",
      "Requirement already satisfied: ptyprocess>=0.5 in /home/harry/.local/lib/python3.8/site-packages (from pexpect>4.3; sys_platform != \"win32\"->ipython->userinput->ensmallen==0.6.6->neat==0.0.1) (0.7.0)\n",
      "Building wheels for collected packages: neat\n",
      "  Building wheel for neat (setup.py) ... \u001b[?25ldone\n",
      "\u001b[?25h  Created wheel for neat: filename=neat-0.0.1-py3-none-any.whl size=16819 sha256=2602b38beb324e995db86686823b7c4ce0637a3e730f47ca72d7f131d2b092c8\n",
      "  Stored in directory: /tmp/pip-ephem-wheel-cache-kxjwin25/wheels/d8/85/56/6759207e7e3026797ec608f40096b52027ce051d31288bb564\n",
      "Successfully built neat\n",
      "Installing collected packages: neat\n",
      "\u001b[33m  WARNING: The script neat is installed in '/home/harry/.local/bin' which is not on PATH.\n",
      "  Consider adding this directory to PATH or, if you prefer to suppress this warning, use --no-warn-script-location.\u001b[0m\n",
      "Successfully installed neat-0.0.1\n",
      "Note: you may need to restart the kernel to use updated packages.\n",
      "/home/harry/NEAT/notebooks\n"
     ]
    }
   ],
   "source": [
    "%cd ..\n",
    "%pip install .\n",
    "%cd notebooks/"
   ]
  },
  {
   "cell_type": "markdown",
   "id": "0fd87004",
   "metadata": {},
   "source": [
    "## Define graph parameters"
   ]
  },
  {
   "cell_type": "markdown",
   "id": "0b66b2a2",
   "metadata": {},
   "source": [
    "For demonstration purposes, we'll use a copy of the [ECTO ontology](https://obofoundry.org/ontology/ecto.html), pre-processed to graph form by [KG-OBO](https://github.com/Knowledge-Graph-Hub/kg-obo)."
   ]
  },
  {
   "cell_type": "code",
   "execution_count": 2,
   "id": "5f0415b0",
   "metadata": {},
   "outputs": [
    {
     "name": "stdout",
     "output_type": "stream",
     "text": [
      "--2022-03-21 14:56:40--  https://kg-hub.berkeleybop.io/kg-obo/ecto/2022-03-09/ecto_kgx_tsv.tar.gz\n",
      "Resolving kg-hub.berkeleybop.io (kg-hub.berkeleybop.io)... 52.84.52.56, 52.84.52.90, 52.84.52.67, ...\n",
      "Connecting to kg-hub.berkeleybop.io (kg-hub.berkeleybop.io)|52.84.52.56|:443... connected.\n",
      "HTTP request sent, awaiting response... 200 OK\n",
      "Length: 2753731 (2.6M) [plain/text]\n",
      "Saving to: ‘ecto_kgx_tsv.tar.gz’\n",
      "\n",
      "ecto_kgx_tsv.tar.gz 100%[===================>]   2.63M  12.9MB/s    in 0.2s    \n",
      "\n",
      "2022-03-21 14:56:40 (12.9 MB/s) - ‘ecto_kgx_tsv.tar.gz’ saved [2753731/2753731]\n",
      "\n",
      "ecto_kgx_tsv_nodes.tsv\n",
      "ecto_kgx_tsv_edges.tsv\n"
     ]
    }
   ],
   "source": [
    "!wget https://kg-hub.berkeleybop.io/kg-obo/ecto/2022-03-09/ecto_kgx_tsv.tar.gz\n",
    "!tar xvzf ecto_kgx_tsv.tar.gz"
   ]
  },
  {
   "cell_type": "markdown",
   "id": "87c6cc79",
   "metadata": {},
   "source": [
    "Now define the following graph parameters or just use the default values."
   ]
  },
  {
   "cell_type": "code",
   "execution_count": 6,
   "id": "46f4a1e0",
   "metadata": {},
   "outputs": [],
   "source": [
    "directed = False # Yes, this is technically a directed network, but we'll treat it as undirected\n",
    "node_path = \"ecto_kgx_tsv_nodes.tsv\" # Our positive training nodes\n",
    "edge_path = \"ecto_kgx_tsv_edges.tsv\" # Our positive training edges - note that this will change shortly"
   ]
  },
  {
   "cell_type": "markdown",
   "id": "5774f73c",
   "metadata": {},
   "source": [
    "We want to have a positive validation set, too. Let's generate a ~20% holdout set based on the edge file just downloaded."
   ]
  },
  {
   "cell_type": "code",
   "execution_count": 7,
   "id": "3c8b47aa",
   "metadata": {},
   "outputs": [],
   "source": [
    "import random\n",
    "\n",
    "train_edge_path = (edge_path.split(\".\"))[0] + \"_train.tsv\"\n",
    "pos_valid_edge_path = (edge_path.split(\".\"))[0] + \"_validate.tsv\"\n",
    "\n",
    "with open(edge_path, 'r') as edge_file:\n",
    "    header = edge_file.readline()\n",
    "    with open(train_edge_path, 'w') as train_edge_file:\n",
    "        train_edge_file.write(header)\n",
    "        with open (pos_valid_edge_path, 'w') as valid_edge_file:\n",
    "            valid_edge_file.write(header)\n",
    "            for line in edge_file:\n",
    "                if random.randint(1,100) < 20:\n",
    "                    valid_edge_file.write(line)\n",
    "                else:\n",
    "                    train_edge_file.write(line)\n",
    "                    \n",
    "edge_path = train_edge_path"
   ]
  },
  {
   "cell_type": "markdown",
   "id": "7490e72f",
   "metadata": {},
   "source": [
    "Negative data would be nice to have, too. We'll define paths for negative training and negative validation edge lists here, but won't create them until the next section."
   ]
  },
  {
   "cell_type": "code",
   "execution_count": 8,
   "id": "1d1037d7",
   "metadata": {},
   "outputs": [],
   "source": [
    "neg_train_edge_path = \"negative_edges.tsv\"\n",
    "neg_valid_edge_path = \"negative_valid_edges.tsv\""
   ]
  },
  {
   "cell_type": "markdown",
   "id": "38844254",
   "metadata": {},
   "source": [
    "## Loading a graph and generating subgraphs"
   ]
  },
  {
   "cell_type": "markdown",
   "id": "6b07acb2",
   "metadata": {},
   "source": [
    "First task: load our training nodes and edges with Ensmallen and get some details about the graph."
   ]
  },
  {
   "cell_type": "code",
   "execution_count": 9,
   "id": "df860e68",
   "metadata": {},
   "outputs": [
    {
     "name": "stderr",
     "output_type": "stream",
     "text": [
      "/usr/lib/python3/dist-packages/requests/__init__.py:89: RequestsDependencyWarning: urllib3 (1.26.8) or chardet (3.0.4) doesn't match a supported version!\n",
      "  warnings.warn(\"urllib3 ({}) or chardet ({}) doesn't match a supported \"\n"
     ]
    }
   ],
   "source": [
    "from ensmallen import Graph"
   ]
  },
  {
   "cell_type": "code",
   "execution_count": 10,
   "id": "b6ef03d4",
   "metadata": {},
   "outputs": [
    {
     "data": {
      "text/html": [
       "<p>The undirected multigraph graph has 17379 homogeneous nodes and 40218 heterogenous edges.</p><h3>RAM requirements</h3><p>The RAM requirements for the nodes and edges data structures are 4.28MB and 149.82KB respectively.</p><h3>Degree centrality</h3><p>The minimum node degree is 0, the maximum node degree is 4184, the mode degree is 1, the mean degree is 4.63 and the node degree median is 3.</p><p>The nodes with highest degree centrality are: <a href='http://purl.obolibrary.org/obo/chebi#3_STAR' target='_blank' title='Go to Open Biomedical Ontology to get more informations about OBO:chebi#3_STAR'>OBO:chebi#3_STAR</a> (degree 4184 and node type <a href='https://biolink.github.io/biolink-model/docs/NamedThing.html' target='_blank' title='Go to BioLink to get more informations about biolink:NamedThing'>biolink:NamedThing</a>), <a href='http://purl.obolibrary.org/obo/EXO_0000002' target='_blank' title='Go to Exposure ontology to get more informations about ExO:0000002'>ExO:0000002</a> (degree 2286 and node type <a href='https://biolink.github.io/biolink-model/docs/NamedThing.html' target='_blank' title='Go to BioLink to get more informations about biolink:NamedThing'>biolink:NamedThing</a>), <a href='http://purl.obolibrary.org/obo/uberon/core#pheno_slim' target='_blank' title='Go to Uberon Core to get more informations about UBERON_CORE:pheno_slim'>UBERON_CORE:pheno_slim</a> (degree 521 and node type <a href='https://biolink.github.io/biolink-model/docs/NamedThing.html' target='_blank' title='Go to BioLink to get more informations about biolink:NamedThing'>biolink:NamedThing</a>), <a href='http://purl.obolibrary.org/obo/chebi.owl' target='_blank' title='Go to Open Biomedical Ontology to get more informations about OBO:chebi.owl'>OBO:chebi.owl</a> (degree 395 and node type <a href='https://biolink.github.io/biolink-model/docs/NamedThing.html' target='_blank' title='Go to BioLink to get more informations about biolink:NamedThing'>biolink:NamedThing</a>) and <a href='http://purl.obolibrary.org/obo/ECTO_0000163' target='_blank' title='Go to Environmental conditions, treatments and exposures ontology to get more informations about ECTO:0000163'>ECTO:0000163</a> (degree 368 and node type <a href='https://biolink.github.io/biolink-model/docs/NamedThing.html' target='_blank' title='Go to BioLink to get more informations about biolink:NamedThing'>biolink:NamedThing</a>).</p><h3>Disconnected nodes</h3><p>Disconnected nodes are nodes that are not connected to any other node.The graph contains 998 disconnected nodes.</p><h4>Singleton nodes</h4><p>Singleton nodes are nodes with no edge to other nodes nor selfloops. The graph contains 997 singleton nodes, which are <a href='http://purl.obolibrary.org/obo/NBO_0020088' target='_blank' title='Go to Neuro Behavior Ontology to get more informations about NBO:0020088'>NBO:0020088</a> (node type <a href='https://biolink.github.io/biolink-model/docs/NamedThing.html' target='_blank' title='Go to BioLink to get more informations about biolink:NamedThing'>biolink:NamedThing</a>), <a href='http://purl.obolibrary.org/obo/ECTO_9001612' target='_blank' title='Go to Environmental conditions, treatments and exposures ontology to get more informations about ECTO:9001612'>ECTO:9001612</a> (node type <a href='https://biolink.github.io/biolink-model/docs/NamedThing.html' target='_blank' title='Go to BioLink to get more informations about biolink:NamedThing'>biolink:NamedThing</a>), <a href='http://purl.obolibrary.org/obo/FOODON_03460141' target='_blank' title='Go to FOODON to get more informations about FOODON:03460141'>FOODON:03460141</a> (node type <a href='https://biolink.github.io/biolink-model/docs/NamedThing.html' target='_blank' title='Go to BioLink to get more informations about biolink:NamedThing'>biolink:NamedThing</a>), <a href='http://purl.obolibrary.org/obo/ENVO_00002135' target='_blank' title='Go to Environment Ontology to get more informations about ENVO:00002135'>ENVO:00002135</a> (node type <a href='https://biolink.github.io/biolink-model/docs/NamedThing.html' target='_blank' title='Go to BioLink to get more informations about biolink:NamedThing'>biolink:NamedThing</a>) and Ne1972e40d4ad42d791967c82f13146e7 (node type <a href='https://biolink.github.io/biolink-model/docs/NamedThing.html' target='_blank' title='Go to BioLink to get more informations about biolink:NamedThing'>biolink:NamedThing</a>), plus other 992 singleton nodes.</p><h4>Singleton nodes with selfloops</h4><p>Singleton nodes with selfloops are nodes with no edge to other nodes and have exclusively selfloops. The graph contains a singleton node with selfloop, which is <a href='http://purl.org/dc/terms/license' target='_blank' title='Go to Dublin Core to get more informations about dct:license'>dct:license</a> (degree 1 and node type <a href='https://biolink.github.io/biolink-model/docs/NamedThing.html' target='_blank' title='Go to BioLink to get more informations about biolink:NamedThing'>biolink:NamedThing</a>).</p><h3>Node types</h3><p>The graph has a single node type, which is <a href='https://biolink.github.io/biolink-model/docs/NamedThing.html' target='_blank' title='Go to BioLink to get more informations about biolink:NamedThing'>biolink:NamedThing</a>. Note that this means that all nodes have the same node type, that is, all nodes are homogeneous..</p><h4>RAM requirements</h4><p>The RAM requirements for the node types data structure is 869.39KB.</p><h3>Edge types</h3><p>The graph has 38 edge types, of which the 5 most common are <a href='https://biolink.github.io/biolink-model/docs/subclass_of.html' target='_blank' title='Go to BioLink to get more informations about biolink:subclass_of'>biolink:subclass_of</a> (38133 edges, 47.41%), <a href='https://biolink.github.io/biolink-model/docs/related_to.html' target='_blank' title='Go to BioLink to get more informations about biolink:related_to'>biolink:related_to</a> (24112 edges, 29.98%), <a href='https://biolink.github.io/biolink-model/docs/has_attribute.html' target='_blank' title='Go to BioLink to get more informations about biolink:has_attribute'>biolink:has_attribute</a> (6452 edges, 8.02%), <a href='https://biolink.github.io/biolink-model/docs/close_match.html' target='_blank' title='Go to BioLink to get more informations about biolink:close_match'>biolink:close_match</a> (3381 edges, 4.20%) and <a href='https://biolink.github.io/biolink-model/docs/part_of.html' target='_blank' title='Go to BioLink to get more informations about biolink:part_of'>biolink:part_of</a> (3081 edges, 3.83%).</p><h4>RAM requirements</h4><p>The RAM requirements for the edge types data structure is 331.81KB.</p>"
      ],
      "text/plain": [
       "<p>The undirected multigraph graph has 17379 homogeneous nodes and 40218 heterogenous edges.</p><h3>RAM requirements</h3><p>The RAM requirements for the nodes and edges data structures are 4.28MB and 149.82KB respectively.</p><h3>Degree centrality</h3><p>The minimum node degree is 0, the maximum node degree is 4184, the mode degree is 1, the mean degree is 4.63 and the node degree median is 3.</p><p>The nodes with highest degree centrality are: <a href='http://purl.obolibrary.org/obo/chebi#3_STAR' target='_blank' title='Go to Open Biomedical Ontology to get more informations about OBO:chebi#3_STAR'>OBO:chebi#3_STAR</a> (degree 4184 and node type <a href='https://biolink.github.io/biolink-model/docs/NamedThing.html' target='_blank' title='Go to BioLink to get more informations about biolink:NamedThing'>biolink:NamedThing</a>), <a href='http://purl.obolibrary.org/obo/EXO_0000002' target='_blank' title='Go to Exposure ontology to get more informations about ExO:0000002'>ExO:0000002</a> (degree 2286 and node type <a href='https://biolink.github.io/biolink-model/docs/NamedThing.html' target='_blank' title='Go to BioLink to get more informations about biolink:NamedThing'>biolink:NamedThing</a>), <a href='http://purl.obolibrary.org/obo/uberon/core#pheno_slim' target='_blank' title='Go to Uberon Core to get more informations about UBERON_CORE:pheno_slim'>UBERON_CORE:pheno_slim</a> (degree 521 and node type <a href='https://biolink.github.io/biolink-model/docs/NamedThing.html' target='_blank' title='Go to BioLink to get more informations about biolink:NamedThing'>biolink:NamedThing</a>), <a href='http://purl.obolibrary.org/obo/chebi.owl' target='_blank' title='Go to Open Biomedical Ontology to get more informations about OBO:chebi.owl'>OBO:chebi.owl</a> (degree 395 and node type <a href='https://biolink.github.io/biolink-model/docs/NamedThing.html' target='_blank' title='Go to BioLink to get more informations about biolink:NamedThing'>biolink:NamedThing</a>) and <a href='http://purl.obolibrary.org/obo/ECTO_0000163' target='_blank' title='Go to Environmental conditions, treatments and exposures ontology to get more informations about ECTO:0000163'>ECTO:0000163</a> (degree 368 and node type <a href='https://biolink.github.io/biolink-model/docs/NamedThing.html' target='_blank' title='Go to BioLink to get more informations about biolink:NamedThing'>biolink:NamedThing</a>).</p><h3>Disconnected nodes</h3><p>Disconnected nodes are nodes that are not connected to any other node.The graph contains 998 disconnected nodes.</p><h4>Singleton nodes</h4><p>Singleton nodes are nodes with no edge to other nodes nor selfloops. The graph contains 997 singleton nodes, which are <a href='http://purl.obolibrary.org/obo/NBO_0020088' target='_blank' title='Go to Neuro Behavior Ontology to get more informations about NBO:0020088'>NBO:0020088</a> (node type <a href='https://biolink.github.io/biolink-model/docs/NamedThing.html' target='_blank' title='Go to BioLink to get more informations about biolink:NamedThing'>biolink:NamedThing</a>), <a href='http://purl.obolibrary.org/obo/ECTO_9001612' target='_blank' title='Go to Environmental conditions, treatments and exposures ontology to get more informations about ECTO:9001612'>ECTO:9001612</a> (node type <a href='https://biolink.github.io/biolink-model/docs/NamedThing.html' target='_blank' title='Go to BioLink to get more informations about biolink:NamedThing'>biolink:NamedThing</a>), <a href='http://purl.obolibrary.org/obo/FOODON_03460141' target='_blank' title='Go to FOODON to get more informations about FOODON:03460141'>FOODON:03460141</a> (node type <a href='https://biolink.github.io/biolink-model/docs/NamedThing.html' target='_blank' title='Go to BioLink to get more informations about biolink:NamedThing'>biolink:NamedThing</a>), <a href='http://purl.obolibrary.org/obo/ENVO_00002135' target='_blank' title='Go to Environment Ontology to get more informations about ENVO:00002135'>ENVO:00002135</a> (node type <a href='https://biolink.github.io/biolink-model/docs/NamedThing.html' target='_blank' title='Go to BioLink to get more informations about biolink:NamedThing'>biolink:NamedThing</a>) and Ne1972e40d4ad42d791967c82f13146e7 (node type <a href='https://biolink.github.io/biolink-model/docs/NamedThing.html' target='_blank' title='Go to BioLink to get more informations about biolink:NamedThing'>biolink:NamedThing</a>), plus other 992 singleton nodes.</p><h4>Singleton nodes with selfloops</h4><p>Singleton nodes with selfloops are nodes with no edge to other nodes and have exclusively selfloops. The graph contains a singleton node with selfloop, which is <a href='http://purl.org/dc/terms/license' target='_blank' title='Go to Dublin Core to get more informations about dct:license'>dct:license</a> (degree 1 and node type <a href='https://biolink.github.io/biolink-model/docs/NamedThing.html' target='_blank' title='Go to BioLink to get more informations about biolink:NamedThing'>biolink:NamedThing</a>).</p><h3>Node types</h3><p>The graph has a single node type, which is <a href='https://biolink.github.io/biolink-model/docs/NamedThing.html' target='_blank' title='Go to BioLink to get more informations about biolink:NamedThing'>biolink:NamedThing</a>. Note that this means that all nodes have the same node type, that is, all nodes are homogeneous..</p><h4>RAM requirements</h4><p>The RAM requirements for the node types data structure is 869.39KB.</p><h3>Edge types</h3><p>The graph has 38 edge types, of which the 5 most common are <a href='https://biolink.github.io/biolink-model/docs/subclass_of.html' target='_blank' title='Go to BioLink to get more informations about biolink:subclass_of'>biolink:subclass_of</a> (38133 edges, 47.41%), <a href='https://biolink.github.io/biolink-model/docs/related_to.html' target='_blank' title='Go to BioLink to get more informations about biolink:related_to'>biolink:related_to</a> (24112 edges, 29.98%), <a href='https://biolink.github.io/biolink-model/docs/has_attribute.html' target='_blank' title='Go to BioLink to get more informations about biolink:has_attribute'>biolink:has_attribute</a> (6452 edges, 8.02%), <a href='https://biolink.github.io/biolink-model/docs/close_match.html' target='_blank' title='Go to BioLink to get more informations about biolink:close_match'>biolink:close_match</a> (3381 edges, 4.20%) and <a href='https://biolink.github.io/biolink-model/docs/part_of.html' target='_blank' title='Go to BioLink to get more informations about biolink:part_of'>biolink:part_of</a> (3081 edges, 3.83%).</p><h4>RAM requirements</h4><p>The RAM requirements for the edge types data structure is 331.81KB.</p>"
      ]
     },
     "execution_count": 10,
     "metadata": {},
     "output_type": "execute_result"
    }
   ],
   "source": [
    "g= Graph.from_csv(\n",
    "  directed=directed,\n",
    "  node_path=node_path,\n",
    "  edge_path=edge_path,\n",
    "  verbose=True,\n",
    "  nodes_column='id',\n",
    "  node_list_node_types_column='category',\n",
    "  default_node_type='biolink:NamedThing',\n",
    "  sources_column='subject',\n",
    "  destinations_column='object',\n",
    "  edge_list_edge_types_column='predicate'\n",
    ")\n",
    "g"
   ]
  },
  {
   "cell_type": "markdown",
   "id": "f7ce4324",
   "metadata": {},
   "source": [
    "Now let's generate some negative edge sets. The following method will create a new Graph object with the specified number of edges, where each is a negative edge in the original graph. It doesn't impact nodes at all, so we remove the now-disconnected nodes for the sake of cleanliness."
   ]
  },
  {
   "cell_type": "code",
   "execution_count": 11,
   "id": "42ea0eb7",
   "metadata": {},
   "outputs": [
    {
     "data": {
      "text/html": [
       "<h2>Negative Graph</h2><p>The undirected graph Negative Graph has 17205 homogeneous nodes and 40218 edges.</p><h3>RAM requirements</h3><p>The RAM requirements for the nodes and edges data structures are 4.25MB and 149.66KB respectively.</p><h3>Degree centrality</h3><p>The minimum node degree is 1, the maximum node degree is 15, the mode degree is 4, the mean degree is 4.67 and the node degree median is 4.</p><p>The nodes with highest degree centrality are: <a href='http://purl.obolibrary.org/obo/UBERON_0000015' target='_blank' title='Go to Uberon multi-species anatomy ontology to get more informations about UBERON:0000015'>UBERON:0000015</a> (degree 15 and node type <a href='https://biolink.github.io/biolink-model/docs/NamedThing.html' target='_blank' title='Go to BioLink to get more informations about biolink:NamedThing'>biolink:NamedThing</a>), <a href='http://purl.obolibrary.org/obo/RO_0002388' target='_blank' title='Go to Relation Ontology to get more informations about RO:0002388'>RO:0002388</a> (degree 14 and node type <a href='https://biolink.github.io/biolink-model/docs/NamedThing.html' target='_blank' title='Go to BioLink to get more informations about biolink:NamedThing'>biolink:NamedThing</a>), <a href='http://www.snomedbrowser.com/Codes/Details/272626006' target='_blank' title='Go to website to get more informations about http:&#x2f;&#x2f;www.snomedbrowser.com&#x2f;Codes&#x2f;Details&#x2f;272626006'>http:&#x2f;&#x2f;www.snomedbrowser.com&#x2f;Codes&#x2f;Details&#x2f;272626006</a> (degree 14 and node type <a href='https://biolink.github.io/biolink-model/docs/NamedThing.html' target='_blank' title='Go to BioLink to get more informations about biolink:NamedThing'>biolink:NamedThing</a>), <a href='https://www.ebi.ac.uk/chebi/searchId.do?chebiId=CHEBI:29258' target='_blank' title='Go to CHEBI to get more informations about CHEBI:29258'>CHEBI:29258</a> (degree 14 and node type <a href='https://biolink.github.io/biolink-model/docs/NamedThing.html' target='_blank' title='Go to BioLink to get more informations about biolink:NamedThing'>biolink:NamedThing</a>) and <a href='http://purl.obolibrary.org/obo/ECTO_9000450' target='_blank' title='Go to Environmental conditions, treatments and exposures ontology to get more informations about ECTO:9000450'>ECTO:9000450</a> (degree 14 and node type <a href='https://biolink.github.io/biolink-model/docs/NamedThing.html' target='_blank' title='Go to BioLink to get more informations about biolink:NamedThing'>biolink:NamedThing</a>).</p><h3>Node types</h3><p>The graph has a single node type, which is <a href='https://biolink.github.io/biolink-model/docs/NamedThing.html' target='_blank' title='Go to BioLink to get more informations about biolink:NamedThing'>biolink:NamedThing</a>. Note that this means that all nodes have the same node type, that is, all nodes are homogeneous..</p><h4>RAM requirements</h4><p>The RAM requirements for the node types data structure is 860.69KB.</p>"
      ],
      "text/plain": [
       "<h2>Negative Graph</h2><p>The undirected graph Negative Graph has 17205 homogeneous nodes and 40218 edges.</p><h3>RAM requirements</h3><p>The RAM requirements for the nodes and edges data structures are 4.25MB and 149.66KB respectively.</p><h3>Degree centrality</h3><p>The minimum node degree is 1, the maximum node degree is 15, the mode degree is 4, the mean degree is 4.67 and the node degree median is 4.</p><p>The nodes with highest degree centrality are: <a href='http://purl.obolibrary.org/obo/UBERON_0000015' target='_blank' title='Go to Uberon multi-species anatomy ontology to get more informations about UBERON:0000015'>UBERON:0000015</a> (degree 15 and node type <a href='https://biolink.github.io/biolink-model/docs/NamedThing.html' target='_blank' title='Go to BioLink to get more informations about biolink:NamedThing'>biolink:NamedThing</a>), <a href='http://purl.obolibrary.org/obo/RO_0002388' target='_blank' title='Go to Relation Ontology to get more informations about RO:0002388'>RO:0002388</a> (degree 14 and node type <a href='https://biolink.github.io/biolink-model/docs/NamedThing.html' target='_blank' title='Go to BioLink to get more informations about biolink:NamedThing'>biolink:NamedThing</a>), <a href='http://www.snomedbrowser.com/Codes/Details/272626006' target='_blank' title='Go to website to get more informations about http:&#x2f;&#x2f;www.snomedbrowser.com&#x2f;Codes&#x2f;Details&#x2f;272626006'>http:&#x2f;&#x2f;www.snomedbrowser.com&#x2f;Codes&#x2f;Details&#x2f;272626006</a> (degree 14 and node type <a href='https://biolink.github.io/biolink-model/docs/NamedThing.html' target='_blank' title='Go to BioLink to get more informations about biolink:NamedThing'>biolink:NamedThing</a>), <a href='https://www.ebi.ac.uk/chebi/searchId.do?chebiId=CHEBI:29258' target='_blank' title='Go to CHEBI to get more informations about CHEBI:29258'>CHEBI:29258</a> (degree 14 and node type <a href='https://biolink.github.io/biolink-model/docs/NamedThing.html' target='_blank' title='Go to BioLink to get more informations about biolink:NamedThing'>biolink:NamedThing</a>) and <a href='http://purl.obolibrary.org/obo/ECTO_9000450' target='_blank' title='Go to Environmental conditions, treatments and exposures ontology to get more informations about ECTO:9000450'>ECTO:9000450</a> (degree 14 and node type <a href='https://biolink.github.io/biolink-model/docs/NamedThing.html' target='_blank' title='Go to BioLink to get more informations about biolink:NamedThing'>biolink:NamedThing</a>).</p><h3>Node types</h3><p>The graph has a single node type, which is <a href='https://biolink.github.io/biolink-model/docs/NamedThing.html' target='_blank' title='Go to BioLink to get more informations about biolink:NamedThing'>biolink:NamedThing</a>. Note that this means that all nodes have the same node type, that is, all nodes are homogeneous..</p><h4>RAM requirements</h4><p>The RAM requirements for the node types data structure is 860.69KB.</p>"
      ]
     },
     "execution_count": 11,
     "metadata": {},
     "output_type": "execute_result"
    }
   ],
   "source": [
    "negative_graph = g.sample_negatives(g.get_edges_number()) # Just as many negative examples as positive examples\n",
    "negative_graph = negative_graph.drop_disconnected_nodes()\n",
    "negative_graph"
   ]
  },
  {
   "cell_type": "markdown",
   "id": "b8ffa33f",
   "metadata": {},
   "source": [
    "Now we'll get Ensmallen to generate two different holdout graphs for us, write out those edge files, and continue with defining the NEAT configuration."
   ]
  },
  {
   "cell_type": "code",
   "execution_count": 12,
   "id": "d1c6a950",
   "metadata": {},
   "outputs": [
    {
     "ename": "ValueError",
     "evalue": "Train rate must be strictly between 0 and 1.",
     "output_type": "error",
     "traceback": [
      "\u001b[0;31m---------------------------------------------------------------------------\u001b[0m",
      "\u001b[0;31mValueError\u001b[0m                                Traceback (most recent call last)",
      "\u001b[1;32m/home/harry/NEAT/notebooks/A NEAT Demonstration.ipynb Cell 20'\u001b[0m in \u001b[0;36m<cell line: 2>\u001b[0;34m()\u001b[0m\n\u001b[1;32m      <a href='vscode-notebook-cell://wsl%2Bubuntu-20.04/home/harry/NEAT/notebooks/A%20NEAT%20Demonstration.ipynb#ch0000019vscode-remote?line=0'>1</a>\u001b[0m train_size \u001b[39m=\u001b[39m (g\u001b[39m.\u001b[39mget_edges_number()) \u001b[39m*\u001b[39m \u001b[39m0.8\u001b[39m\n\u001b[0;32m----> <a href='vscode-notebook-cell://wsl%2Bubuntu-20.04/home/harry/NEAT/notebooks/A%20NEAT%20Demonstration.ipynb#ch0000019vscode-remote?line=1'>2</a>\u001b[0m neg_train_edge_graph, neg_valid_edge_graph \u001b[39m=\u001b[39m negative_graph\u001b[39m.\u001b[39;49mrandom_holdout(train_size\u001b[39m=\u001b[39;49mtrain_size)\n\u001b[1;32m      <a href='vscode-notebook-cell://wsl%2Bubuntu-20.04/home/harry/NEAT/notebooks/A%20NEAT%20Demonstration.ipynb#ch0000019vscode-remote?line=2'>3</a>\u001b[0m neg_train_edge_graph\u001b[39m.\u001b[39mdump_edges(neg_train_edge_path, edges_type_column\u001b[39m=\u001b[39m\u001b[39m'\u001b[39m\u001b[39mpredicate\u001b[39m\u001b[39m'\u001b[39m)\n\u001b[1;32m      <a href='vscode-notebook-cell://wsl%2Bubuntu-20.04/home/harry/NEAT/notebooks/A%20NEAT%20Demonstration.ipynb#ch0000019vscode-remote?line=3'>4</a>\u001b[0m neg_valid_edge_graph\u001b[39m.\u001b[39mdump_edges(neg_valid_edge_path, edges_type_column\u001b[39m=\u001b[39m\u001b[39m'\u001b[39m\u001b[39mpredicate\u001b[39m\u001b[39m'\u001b[39m)\n",
      "\u001b[0;31mValueError\u001b[0m: Train rate must be strictly between 0 and 1."
     ]
    }
   ],
   "source": [
    "neg_train_edge_graph, neg_valid_edge_graph = negative_graph.random_holdout(train_size=0.8)\n",
    "neg_train_edge_graph.dump_edges(neg_train_edge_path, edges_type_column='predicate')\n",
    "neg_valid_edge_graph.dump_edges(neg_valid_edge_path, edges_type_column='predicate')"
   ]
  },
  {
   "cell_type": "markdown",
   "id": "45dac3a5",
   "metadata": {},
   "source": [
    "## Define embedding parameters"
   ]
  },
  {
   "cell_type": "markdown",
   "id": "b46b8587",
   "metadata": {},
   "source": [
    "These parameters are quite simple for purposes of the demonstration."
   ]
  },
  {
   "cell_type": "code",
   "execution_count": 21,
   "id": "09ca95af",
   "metadata": {},
   "outputs": [],
   "source": [
    "embedding_file_name = \"demo_embeddings.tsv\"\n",
    "embedding_history_file_name = \"embedding_history.json\"\n",
    "node_embedding_method_name = \"CBOW\" # one of 'CBOW', 'GloVe', 'SkipGram', 'Siamese', 'TransE', 'SimplE', 'TransH', 'TransR'\n",
    "walk_length = 10 # typically 100 or so\n",
    "batch_size = 128 # typically 512? or more\n",
    "window_size = 4\n",
    "iterations = 5 # typically 20 or more"
   ]
  },
  {
   "cell_type": "markdown",
   "id": "4ecbfb5c",
   "metadata": {},
   "source": [
    "## Define classifier parameters"
   ]
  },
  {
   "cell_type": "markdown",
   "id": "759b6a11",
   "metadata": {},
   "source": [
    "Here, we define a single classifier, but NEAT will accept a list of multiple classifier types.\n",
    "\n",
    "We're going to set it up as if we were building a link prediction model. NEAT would prefer to have positive *and* negative training/validation data for this. Conveniently, we've provided paths to those above. "
   ]
  },
  {
   "cell_type": "code",
   "execution_count": 22,
   "id": "eb471551",
   "metadata": {},
   "outputs": [],
   "source": [
    "edge_method = \"Average\" # one of EdgeTransformer.methods: Hadamard, Sum, Average, L1, AbsoluteL1, L2, or alternatively a lambda\n",
    "classifier_type = \"Logistic Regression\"\n",
    "classifier_model_outfile = \"model_lr_demo\"\n",
    "classifier_model_type = \"sklearn.linear_model.LogisticRegression\"\n",
    "classifier_model_random_state = 42\n",
    "classifier_model_max_iter = 1000"
   ]
  },
  {
   "cell_type": "markdown",
   "id": "76e520a6",
   "metadata": {},
   "source": [
    "## Define output parameters"
   ]
  },
  {
   "cell_type": "markdown",
   "id": "7e6e2ff5",
   "metadata": {},
   "source": [
    "We specify a local output path here, but NEAT can also upload to S3, given a bucket name and directory."
   ]
  },
  {
   "cell_type": "code",
   "execution_count": 23,
   "id": "8762ad01",
   "metadata": {},
   "outputs": [],
   "source": [
    "output_directory = \"./\"\n",
    "\n",
    "config_filename = \"demonstrate.yaml\""
   ]
  },
  {
   "cell_type": "markdown",
   "id": "7393e03b",
   "metadata": {},
   "source": [
    "## Wrap it all up"
   ]
  },
  {
   "cell_type": "code",
   "execution_count": 24,
   "id": "51cf369e",
   "metadata": {},
   "outputs": [
    {
     "name": "stdout",
     "output_type": "stream",
     "text": [
      "\n",
      "graph_data:\n",
      "  graph:\n",
      "    directed: False\n",
      "    node_path: ecto_kgx_tsv_nodes.tsv\n",
      "    edge_path: ecto_kgx_tsv_edges.tsv\n",
      "    verbose: True\n",
      "    nodes_column: 'id'\n",
      "    node_list_node_types_column: 'category'\n",
      "    default_node_type: 'biolink:NamedThing'\n",
      "    sources_column: 'subject'\n",
      "    destinations_column: 'object'\n",
      "    default_edge_type: 'biolink:related_to'\n",
      "  pos_validation:\n",
      "    edge_path: ecto_kgx_tsv_edges.tsv\n",
      "  neg_training:\n",
      "    edge_path: negative_edges.tsv\n",
      "  neg_validation:\n",
      "    edge_path: negative_valid_edges.tsv\n",
      "\n",
      "embeddings:\n",
      "  embedding_file_name: demo_embeddings.tsv\n",
      "  embedding_history_file_name: embedding_history.json\n",
      "  node_embedding_params:\n",
      "      node_embedding_method_name: CBOW\n",
      "      walk_length: 10\n",
      "      batch_size: 128\n",
      "      window_size: 4\n",
      "      return_weight: 1.0\n",
      "      explore_weight: 1.0\n",
      "      iterations: 5\n",
      "      use_mirrored_strategy: False\n",
      "\n",
      "  tsne:\n",
      "    tsne_file_name: tsne.png\n",
      "\n",
      "classifier:\n",
      "  edge_method: Average\n",
      "  classifiers:\n",
      "    - type: Logistic Regression\n",
      "      model:\n",
      "        outfile: model_lr_demo\n",
      "        type: sklearn.linear_model.LogisticRegression\n",
      "        parameters:\n",
      "          random_state: 42\n",
      "          max_iter: 1000\n",
      "\n",
      "output_directory: ./\n",
      "\n"
     ]
    }
   ],
   "source": [
    "outstring = f\"\"\"\n",
    "graph_data:\n",
    "  graph:\n",
    "    directed: {directed}\n",
    "    node_path: {node_path}\n",
    "    edge_path: {edge_path}\n",
    "    verbose: True\n",
    "    nodes_column: 'id'\n",
    "    node_list_node_types_column: 'category'\n",
    "    default_node_type: 'biolink:NamedThing'\n",
    "    sources_column: 'subject'\n",
    "    destinations_column: 'object'\n",
    "    default_edge_type: 'biolink:related_to'\n",
    "  pos_validation:\n",
    "    edge_path: {pos_valid_edge_path}\n",
    "  neg_training:\n",
    "    edge_path: {neg_train_edge_path}\n",
    "  neg_validation:\n",
    "    edge_path: {neg_valid_edge_path}\n",
    "\n",
    "embeddings:\n",
    "  embedding_file_name: {embedding_file_name}\n",
    "  embedding_history_file_name: {embedding_history_file_name}\n",
    "  node_embedding_params:\n",
    "      node_embedding_method_name: {node_embedding_method_name}\n",
    "      walk_length: {walk_length}\n",
    "      batch_size: {batch_size}\n",
    "      window_size: {window_size}\n",
    "      return_weight: 1.0\n",
    "      explore_weight: 1.0\n",
    "      iterations: {iterations}\n",
    "      use_mirrored_strategy: False\n",
    "\n",
    "  tsne:\n",
    "    tsne_file_name: tsne.png\n",
    "\n",
    "classifier:\n",
    "  edge_method: {edge_method}\n",
    "  classifiers:\n",
    "    - type: {classifier_type}\n",
    "      model:\n",
    "        outfile: {classifier_model_outfile}\n",
    "        type: {classifier_model_type}\n",
    "        parameters:\n",
    "          random_state: {classifier_model_random_state}\n",
    "          max_iter: {classifier_model_max_iter}\n",
    "\n",
    "output_directory: {output_directory}\n",
    "\"\"\"\n",
    "print(outstring)"
   ]
  },
  {
   "cell_type": "code",
   "execution_count": 25,
   "id": "0bec1d0c",
   "metadata": {},
   "outputs": [],
   "source": [
    "with open(config_filename, \"w\") as outfile:\n",
    "    outfile.write(outstring)"
   ]
  },
  {
   "cell_type": "code",
   "execution_count": 26,
   "id": "d019d3f7",
   "metadata": {},
   "outputs": [
    {
     "name": "stdout",
     "output_type": "stream",
     "text": [
      "Traceback (most recent call last):\r\n",
      "  File \"/home/harry/neat-env/bin/neat\", line 8, in <module>\r\n",
      "    sys.exit(cli())\r\n",
      "  File \"/home/harry/neat-env/lib/python3.8/site-packages/click/core.py\", line 1128, in __call__\r\n",
      "    return self.main(*args, **kwargs)\r\n",
      "  File \"/home/harry/neat-env/lib/python3.8/site-packages/click/core.py\", line 1053, in main\r\n",
      "    rv = self.invoke(ctx)\r\n",
      "  File \"/home/harry/neat-env/lib/python3.8/site-packages/click/core.py\", line 1659, in invoke\r\n",
      "    return _process_result(sub_ctx.command.invoke(sub_ctx))\r\n",
      "  File \"/home/harry/neat-env/lib/python3.8/site-packages/click/core.py\", line 1395, in invoke\r\n",
      "    return ctx.invoke(self.callback, **ctx.params)\r\n",
      "  File \"/home/harry/neat-env/lib/python3.8/site-packages/click/core.py\", line 754, in invoke\r\n",
      "    return __callback(*args, **kwargs)\r\n",
      "  File \"/home/harry/neat-env/lib/python3.8/site-packages/neat/cli.py\", line 41, in run\r\n",
      "    if not pre_run_checks(yhelp=yhelp):\r\n",
      "  File \"/home/harry/neat-env/lib/python3.8/site-packages/neat/pre_run_checks/pre_run_checks.py\", line 29, in pre_run_checks\r\n",
      "    client.list_buckets()  # to check credentials\r\n",
      "  File \"/home/harry/neat-env/lib/python3.8/site-packages/botocore/client.py\", line 395, in _api_call\r\n",
      "    return self._make_api_call(operation_name, kwargs)\r\n",
      "  File \"/home/harry/neat-env/lib/python3.8/site-packages/botocore/client.py\", line 711, in _make_api_call\r\n",
      "    http, parsed_response = self._make_request(\r\n",
      "  File \"/home/harry/neat-env/lib/python3.8/site-packages/botocore/client.py\", line 731, in _make_request\r\n",
      "    return self._endpoint.make_request(operation_model, request_dict)\r\n",
      "  File \"/home/harry/neat-env/lib/python3.8/site-packages/botocore/endpoint.py\", line 107, in make_request\r\n",
      "    return self._send_request(request_dict, operation_model)\r\n",
      "  File \"/home/harry/neat-env/lib/python3.8/site-packages/botocore/endpoint.py\", line 180, in _send_request\r\n",
      "    request = self.create_request(request_dict, operation_model)\r\n",
      "  File \"/home/harry/neat-env/lib/python3.8/site-packages/botocore/endpoint.py\", line 120, in create_request\r\n",
      "    self._event_emitter.emit(event_name, request=request,\r\n",
      "  File \"/home/harry/neat-env/lib/python3.8/site-packages/botocore/hooks.py\", line 357, in emit\r\n",
      "    return self._emitter.emit(aliased_event_name, **kwargs)\r\n",
      "  File \"/home/harry/neat-env/lib/python3.8/site-packages/botocore/hooks.py\", line 228, in emit\r\n",
      "    return self._emit(event_name, kwargs)\r\n",
      "  File \"/home/harry/neat-env/lib/python3.8/site-packages/botocore/hooks.py\", line 211, in _emit\r\n",
      "    response = handler(**kwargs)\r\n",
      "  File \"/home/harry/neat-env/lib/python3.8/site-packages/botocore/signers.py\", line 93, in handler\r\n",
      "    return self.sign(operation_name, request)\r\n",
      "  File \"/home/harry/neat-env/lib/python3.8/site-packages/botocore/signers.py\", line 165, in sign\r\n",
      "    auth.add_auth(request)\r\n",
      "  File \"/home/harry/neat-env/lib/python3.8/site-packages/botocore/auth.py\", line 388, in add_auth\r\n",
      "    raise NoCredentialsError()\r\n",
      "botocore.exceptions.NoCredentialsError: Unable to locate credentials\r\n"
     ]
    }
   ],
   "source": [
    "!neat run --config $config_filename"
   ]
  },
  {
   "cell_type": "code",
   "execution_count": null,
   "id": "6d682071",
   "metadata": {},
   "outputs": [],
   "source": [
    "from IPython.display import Image\n",
    "Image(filename='tsne.png') "
   ]
  },
  {
   "cell_type": "code",
   "execution_count": null,
   "id": "e259df92",
   "metadata": {},
   "outputs": [],
   "source": []
  }
 ],
 "metadata": {
  "kernelspec": {
   "display_name": "Python 3 (ipykernel)",
   "language": "python",
   "name": "python3"
  },
  "language_info": {
   "codemirror_mode": {
    "name": "ipython",
    "version": 3
   },
   "file_extension": ".py",
   "mimetype": "text/x-python",
   "name": "python",
   "nbconvert_exporter": "python",
   "pygments_lexer": "ipython3",
   "version": "3.8.10"
  }
 },
 "nbformat": 4,
 "nbformat_minor": 5
}
