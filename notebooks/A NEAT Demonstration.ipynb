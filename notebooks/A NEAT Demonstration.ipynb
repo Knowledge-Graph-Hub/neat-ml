{
 "cells": [
  {
   "cell_type": "markdown",
   "id": "e3db5e3b",
   "metadata": {},
   "source": [
    "# A NEAT Demonstration"
   ]
  },
  {
   "cell_type": "markdown",
   "id": "87d50a95",
   "metadata": {},
   "source": [
    "NEAT provides a way to define graph machine learning tasks with minimal coding, an uncomplicated interface, and a process created with cloud compute in mind.\n",
    "\n",
    "This notebook provides a demonstration of how to set up a NEAT configuration file. We define the values for parameters, write them to a YAML file, then pass that file to NEAT to generate graph embeddings.\n",
    "\n",
    "You're likely reading this notebook while within the NEAT repository. If you haven't installed NEAT yet, please do so now using the next code block."
   ]
  },
  {
   "cell_type": "code",
   "execution_count": null,
   "id": "18da8d71",
   "metadata": {},
   "outputs": [],
   "source": [
    "%cd ..\n",
    "!pip install .\n",
    "%cd notebooks/"
   ]
  },
  {
   "cell_type": "markdown",
   "id": "0fd87004",
   "metadata": {},
   "source": [
    "## Define graph parameters"
   ]
  },
  {
   "cell_type": "markdown",
   "id": "0b66b2a2",
   "metadata": {},
   "source": [
    "For demonstration purposes, we'll use a copy of the [ECTO ontology](https://obofoundry.org/ontology/ecto.html), pre-processed to graph form by [KG-OBO](https://github.com/Knowledge-Graph-Hub/kg-obo)."
   ]
  },
  {
   "cell_type": "code",
   "execution_count": null,
   "id": "5f0415b0",
   "metadata": {},
   "outputs": [],
   "source": [
    "!wget https://kg-hub.berkeleybop.io/kg-obo/ecto/2022-03-09/ecto_kgx_tsv.tar.gz\n",
    "!tar xvzf ecto_kgx_tsv.tar.gz"
   ]
  },
  {
   "cell_type": "markdown",
   "id": "87c6cc79",
   "metadata": {},
   "source": [
    "Now define the following graph parameters or just use the default values."
   ]
  },
  {
   "cell_type": "code",
   "execution_count": null,
   "id": "46f4a1e0",
   "metadata": {},
   "outputs": [],
   "source": [
    "directed = True # Yes, this is technically a directed network, but we'll treat it as undirected\n",
    "node_path = \"ecto_kgx_tsv_nodes.tsv\"\n",
    "edge_path = \"ecto_kgx_tsv_edges.tsv\""
   ]
  },
  {
   "cell_type": "markdown",
   "id": "45dac3a5",
   "metadata": {},
   "source": [
    "## Define embedding parameters"
   ]
  },
  {
   "cell_type": "markdown",
   "id": "b46b8587",
   "metadata": {},
   "source": [
    "These parameters are quite simple for purposes of the demonstration."
   ]
  },
  {
   "cell_type": "code",
   "execution_count": null,
   "id": "09ca95af",
   "metadata": {},
   "outputs": [],
   "source": [
    "embedding_file_name = \"demo_embeddings.tsv\"\n",
    "embedding_history_file_name = \"embedding_history.json\"\n",
    "node_embedding_method_name = \"CBOW\" # one of 'CBOW', 'GloVe', 'SkipGram', 'Siamese', 'TransE', 'SimplE', 'TransH', 'TransR'\n",
    "walk_length = 10 # typically 100 or so\n",
    "batch_size = 128 # typically 512? or more\n",
    "window_size = 4\n",
    "iterations = 5 # typically 20 or more"
   ]
  },
  {
   "cell_type": "markdown",
   "id": "4ecbfb5c",
   "metadata": {},
   "source": [
    "## Define classifier parameters"
   ]
  },
  {
   "cell_type": "markdown",
   "id": "759b6a11",
   "metadata": {},
   "source": [
    "Here, we define a single classifier, but NEAT will accept a list of multiple classifier types."
   ]
  },
  {
   "cell_type": "code",
   "execution_count": null,
   "id": "eb471551",
   "metadata": {},
   "outputs": [],
   "source": [
    "edge_method = \"Average\" # one of EdgeTransformer.methods: Hadamard, Sum, Average, L1, AbsoluteL1, L2, or alternatively a lambda\n",
    "classifier_type = \"Logistic Regression\"\n",
    "classifier_model_outfile = \"model_lr_demo\"\n",
    "classifier_model_type = \"sklearn.linear_model.LogisticRegression\"\n",
    "classifier_model_random_state = 42\n",
    "classifier_model_max_iter = 1000"
   ]
  },
  {
   "cell_type": "markdown",
   "id": "76e520a6",
   "metadata": {},
   "source": [
    "## Define output parameters"
   ]
  },
  {
   "cell_type": "markdown",
   "id": "7e6e2ff5",
   "metadata": {},
   "source": [
    "We specify a local output path here, but NEAT can also upload to S3, given a bucket name and directory."
   ]
  },
  {
   "cell_type": "code",
   "execution_count": null,
   "id": "8762ad01",
   "metadata": {},
   "outputs": [],
   "source": [
    "output_directory = \"./\"\n",
    "\n",
    "config_filename = \"demonstrate.yaml\""
   ]
  },
  {
   "cell_type": "markdown",
   "id": "7393e03b",
   "metadata": {},
   "source": [
    "## Wrap it all up"
   ]
  },
  {
   "cell_type": "code",
   "execution_count": null,
   "id": "51cf369e",
   "metadata": {},
   "outputs": [],
   "source": [
    "outstring = f\"\"\"\n",
    "graph_data:\n",
    "  graph:\n",
    "    directed: {directed}\n",
    "    node_path: {node_path}\n",
    "    edge_path: {edge_path}\n",
    "    verbose: True\n",
    "    nodes_column: 'id'\n",
    "    node_list_node_types_column: 'category'\n",
    "    default_node_type: 'biolink:NamedThing'\n",
    "    sources_column: 'subject'\n",
    "    destinations_column: 'object'\n",
    "    default_edge_type: 'biolink:related_to'\n",
    "\n",
    "embeddings:\n",
    "  embedding_file_name: {embedding_file_name}\n",
    "  embedding_history_file_name: {embedding_history_file_name}\n",
    "  node_embedding_params:\n",
    "      node_embedding_method_name: {node_embedding_method_name}\n",
    "      walk_length: {walk_length}\n",
    "      batch_size: {batch_size}\n",
    "      window_size: {window_size}\n",
    "      return_weight: 1.0\n",
    "      explore_weight: 1.0\n",
    "      iterations: {iterations}\n",
    "      use_mirrored_strategy: False\n",
    "\n",
    "  tsne:\n",
    "    tsne_file_name: tsne.png\n",
    "\n",
    "classifier:\n",
    "  edge_method: {edge_method}\n",
    "  classifiers:\n",
    "    - type: {classifier_type}\n",
    "      model:\n",
    "        outfile: {classifier_model_outfile}\n",
    "        type: {classifier_model_type}\n",
    "        parameters:\n",
    "          random_state: {classifier_model_random_state}\n",
    "          max_iter: {classifier_model_max_iter}\n",
    "\n",
    "output_directory: {output_directory}\n",
    "\"\"\"\n",
    "print(outstring)"
   ]
  },
  {
   "cell_type": "code",
   "execution_count": null,
   "id": "0bec1d0c",
   "metadata": {},
   "outputs": [],
   "source": [
    "with open(config_filename, \"w\") as outfile:\n",
    "    outfile.write(outstring)"
   ]
  },
  {
   "cell_type": "code",
   "execution_count": null,
   "id": "d019d3f7",
   "metadata": {},
   "outputs": [],
   "source": [
    "!neat run --config $config_filename"
   ]
  },
  {
   "cell_type": "code",
   "execution_count": null,
   "id": "6d682071",
   "metadata": {},
   "outputs": [],
   "source": [
    "from IPython.display import Image\n",
    "Image(filename='tsne.png') "
   ]
  },
  {
   "cell_type": "code",
   "execution_count": null,
   "id": "e259df92",
   "metadata": {},
   "outputs": [],
   "source": []
  }
 ],
 "metadata": {
  "kernelspec": {
   "display_name": "Python 3 (ipykernel)",
   "language": "python",
   "name": "python3"
  },
  "language_info": {
   "codemirror_mode": {
    "name": "ipython",
    "version": 3
   },
   "file_extension": ".py",
   "mimetype": "text/x-python",
   "name": "python",
   "nbconvert_exporter": "python",
   "pygments_lexer": "ipython3",
   "version": "3.8.10"
  }
 },
 "nbformat": 4,
 "nbformat_minor": 5
}
