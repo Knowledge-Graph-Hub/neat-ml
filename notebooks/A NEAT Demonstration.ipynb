{
 "cells": [
  {
   "cell_type": "markdown",
   "id": "e3db5e3b",
   "metadata": {},
   "source": [
    "# A NEAT Demonstration"
   ]
  },
  {
   "cell_type": "markdown",
   "id": "87d50a95",
   "metadata": {},
   "source": [
    "NEAT provides a way to define graph machine learning tasks with minimal coding, an uncomplicated interface, and a process created with cloud compute in mind.\n",
    "\n",
    "This notebook provides a demonstration of how to set up a NEAT configuration file. We define the values for parameters, write them to a YAML file, then pass that file to NEAT to generate graph embeddings.\n",
    "\n",
    "You're likely reading this notebook while within the NEAT repository. If you haven't installed NEAT yet, please do so now using the next code block."
   ]
  },
  {
   "cell_type": "code",
   "execution_count": null,
   "id": "18da8d71",
   "metadata": {},
   "outputs": [],
   "source": [
    "%cd ..\n",
    "!pip install .\n",
    "%cd notebooks/"
   ]
  },
  {
   "cell_type": "markdown",
   "id": "0fd87004",
   "metadata": {},
   "source": [
    "## Define graph parameters"
   ]
  },
  {
   "cell_type": "markdown",
   "id": "0b66b2a2",
   "metadata": {},
   "source": [
    "For demonstration purposes, we'll use a copy of the [ECTO ontology](https://obofoundry.org/ontology/ecto.html), pre-processed to graph form by [KG-OBO](https://github.com/Knowledge-Graph-Hub/kg-obo)."
   ]
  },
  {
   "cell_type": "code",
   "execution_count": null,
   "id": "5f0415b0",
   "metadata": {},
   "outputs": [],
   "source": [
    "!wget https://kg-hub.berkeleybop.io/kg-obo/ecto/2022-03-09/ecto_kgx_tsv.tar.gz\n",
    "!tar xvzf ecto_kgx_tsv.tar.gz"
   ]
  },
  {
   "cell_type": "markdown",
   "id": "87c6cc79",
   "metadata": {},
   "source": [
    "Now define the following graph parameters or just use the default values."
   ]
  },
  {
   "cell_type": "code",
   "execution_count": 8,
   "id": "46f4a1e0",
   "metadata": {},
   "outputs": [],
   "source": [
    "directed = False # Yes, this is technically a directed network, but we'll treat it as undirected\n",
    "node_path = \"ecto_kgx_tsv_nodes.tsv\" # Our positive training nodes\n",
    "edge_path = \"ecto_kgx_tsv_edges.tsv\" # Our positive training edges"
   ]
  },
  {
   "cell_type": "markdown",
   "id": "5774f73c",
   "metadata": {},
   "source": [
    "We may want to have a positive validation set, too. Let's use the same edge file as above for now."
   ]
  },
  {
   "cell_type": "code",
   "execution_count": 3,
   "id": "3c8b47aa",
   "metadata": {},
   "outputs": [],
   "source": [
    "pos_valid_edge_path = edge_path"
   ]
  },
  {
   "cell_type": "markdown",
   "id": "7490e72f",
   "metadata": {},
   "source": [
    "Negative data would be nice to have, too. We'll define paths for negative and validation edge lists here, but won't create them until the next section."
   ]
  },
  {
   "cell_type": "code",
   "execution_count": 4,
   "id": "1d1037d7",
   "metadata": {},
   "outputs": [],
   "source": [
    "neg_train_edge_path = \"negative_edges.tsv\"\n",
    "neg_valid_edge_path = \"negative_valid_edges.tsv\""
   ]
  },
  {
   "cell_type": "markdown",
   "id": "38844254",
   "metadata": {},
   "source": [
    "## Loading a graph and generating subgraphs"
   ]
  },
  {
   "cell_type": "markdown",
   "id": "6b07acb2",
   "metadata": {},
   "source": [
    "First task: load our training nodes and edges with Ensmallen and get some details about the graph."
   ]
  },
  {
   "cell_type": "code",
   "execution_count": 5,
   "id": "df860e68",
   "metadata": {},
   "outputs": [],
   "source": [
    "from ensmallen import Graph"
   ]
  },
  {
   "cell_type": "code",
   "execution_count": 11,
   "id": "b6ef03d4",
   "metadata": {},
   "outputs": [
    {
     "data": {
      "text/html": [
       "<p>The undirected multigraph graph has 17379 homogeneous nodes and 49622 heterogenous edges.</p><h3>RAM requirements</h3><p>The RAM requirements for the nodes and edges data structures are 4.28MB and 181.91KB respectively.</p><h3>Degree centrality</h3><p>The minimum node degree is 0, the maximum node degree is 5169, the mode degree is 1, the mean degree is 5.71 and the node degree median is 4.</p><p>The nodes with highest degree centrality are: <a href='http://purl.obolibrary.org/obo/chebi#3_STAR' target='_blank' title='Go to Open Biomedical Ontology to get more informations about OBO:chebi#3_STAR'>OBO:chebi#3_STAR</a> (degree 5169 and node type <a href='https://biolink.github.io/biolink-model/docs/NamedThing.html' target='_blank' title='Go to BioLink to get more informations about biolink:NamedThing'>biolink:NamedThing</a>), <a href='http://purl.obolibrary.org/obo/EXO_0000002' target='_blank' title='Go to Exposure ontology to get more informations about ExO:0000002'>ExO:0000002</a> (degree 2808 and node type <a href='https://biolink.github.io/biolink-model/docs/NamedThing.html' target='_blank' title='Go to BioLink to get more informations about biolink:NamedThing'>biolink:NamedThing</a>), <a href='http://purl.obolibrary.org/obo/uberon/core#pheno_slim' target='_blank' title='Go to Uberon Core to get more informations about UBERON_CORE:pheno_slim'>UBERON_CORE:pheno_slim</a> (degree 637 and node type <a href='https://biolink.github.io/biolink-model/docs/NamedThing.html' target='_blank' title='Go to BioLink to get more informations about biolink:NamedThing'>biolink:NamedThing</a>), <a href='http://purl.obolibrary.org/obo/chebi.owl' target='_blank' title='Go to Open Biomedical Ontology to get more informations about OBO:chebi.owl'>OBO:chebi.owl</a> (degree 474 and node type <a href='https://biolink.github.io/biolink-model/docs/NamedThing.html' target='_blank' title='Go to BioLink to get more informations about biolink:NamedThing'>biolink:NamedThing</a>) and <a href='http://purl.obolibrary.org/obo/ECTO_0000163' target='_blank' title='Go to Environmental conditions, treatments and exposures ontology to get more informations about ECTO:0000163'>ECTO:0000163</a> (degree 449 and node type <a href='https://biolink.github.io/biolink-model/docs/NamedThing.html' target='_blank' title='Go to BioLink to get more informations about biolink:NamedThing'>biolink:NamedThing</a>).</p><h3>Disconnected nodes</h3><p>Disconnected nodes are nodes that are not connected to any other node.The graph contains 216 disconnected nodes.</p><h4>Singleton nodes</h4><p>Singleton nodes are nodes with no edge to other nodes nor selfloops. The graph contains 215 singleton nodes, which are <a href='http://purl.obolibrary.org/obo/exo#interacts_with' target='_blank' title='Go to Open Biomedical Ontology to get more informations about OBO:exo#interacts_with'>OBO:exo#interacts_with</a> (node type <a href='https://biolink.github.io/biolink-model/docs/NamedThing.html' target='_blank' title='Go to BioLink to get more informations about biolink:NamedThing'>biolink:NamedThing</a>), <a href='http://purl.obolibrary.org/obo/RO_0002433' target='_blank' title='Go to Relation Ontology to get more informations about RO:0002433'>RO:0002433</a> (node type <a href='https://biolink.github.io/biolink-model/docs/NamedThing.html' target='_blank' title='Go to BioLink to get more informations about biolink:NamedThing'>biolink:NamedThing</a>), <a href='http://purl.obolibrary.org/obo/chebi#has_parent_hydride' target='_blank' title='Go to Open Biomedical Ontology to get more informations about OBO:chebi#has_parent_hydride'>OBO:chebi#has_parent_hydride</a> (node type <a href='https://biolink.github.io/biolink-model/docs/NamedThing.html' target='_blank' title='Go to BioLink to get more informations about biolink:NamedThing'>biolink:NamedThing</a>), <a href='http://purl.obolibrary.org/obo/uberon/core#filtered_through' target='_blank' title='Go to Uberon Core to get more informations about UBERON_CORE:filtered_through'>UBERON_CORE:filtered_through</a> (node type <a href='https://biolink.github.io/biolink-model/docs/NamedThing.html' target='_blank' title='Go to BioLink to get more informations about biolink:NamedThing'>biolink:NamedThing</a>) and <a href='http://www.geneontology.org/formats/oboInOwl#url' target='_blank' title='Go to Gene Ontology OBO in OWL to get more informations about OIO:url'>OIO:url</a> (node type <a href='https://biolink.github.io/biolink-model/docs/NamedThing.html' target='_blank' title='Go to BioLink to get more informations about biolink:NamedThing'>biolink:NamedThing</a>), plus other 210 singleton nodes.</p><h4>Singleton nodes with selfloops</h4><p>Singleton nodes with selfloops are nodes with no edge to other nodes and have exclusively selfloops. The graph contains a singleton node with selfloop, which is <a href='http://purl.org/dc/terms/license' target='_blank' title='Go to Dublin Core to get more informations about dct:license'>dct:license</a> (degree 1 and node type <a href='https://biolink.github.io/biolink-model/docs/NamedThing.html' target='_blank' title='Go to BioLink to get more informations about biolink:NamedThing'>biolink:NamedThing</a>).</p><h3>Node types</h3><p>The graph has a single node type, which is <a href='https://biolink.github.io/biolink-model/docs/NamedThing.html' target='_blank' title='Go to BioLink to get more informations about biolink:NamedThing'>biolink:NamedThing</a>. Note that this means that all nodes have the same node type, that is, all nodes are homogeneous..</p><h4>RAM requirements</h4><p>The RAM requirements for the node types data structure is 869.39KB.</p><h3>Edge types</h3><p>The graph has 40 edge types, of which the 5 most common are <a href='https://biolink.github.io/biolink-model/docs/subclass_of.html' target='_blank' title='Go to BioLink to get more informations about biolink:subclass_of'>biolink:subclass_of</a> (47209 edges, 47.57%), <a href='https://biolink.github.io/biolink-model/docs/related_to.html' target='_blank' title='Go to BioLink to get more informations about biolink:related_to'>biolink:related_to</a> (29532 edges, 29.76%), <a href='https://biolink.github.io/biolink-model/docs/has_attribute.html' target='_blank' title='Go to BioLink to get more informations about biolink:has_attribute'>biolink:has_attribute</a> (7964 edges, 8.03%), <a href='https://biolink.github.io/biolink-model/docs/close_match.html' target='_blank' title='Go to BioLink to get more informations about biolink:close_match'>biolink:close_match</a> (4131 edges, 4.16%) and <a href='https://biolink.github.io/biolink-model/docs/part_of.html' target='_blank' title='Go to BioLink to get more informations about biolink:part_of'>biolink:part_of</a> (3856 edges, 3.89%).</p><h4>RAM requirements</h4><p>The RAM requirements for the edge types data structure is 407.79KB.</p>"
      ],
      "text/plain": [
       "<p>The undirected multigraph graph has 17379 homogeneous nodes and 49622 heterogenous edges.</p><h3>RAM requirements</h3><p>The RAM requirements for the nodes and edges data structures are 4.28MB and 181.91KB respectively.</p><h3>Degree centrality</h3><p>The minimum node degree is 0, the maximum node degree is 5169, the mode degree is 1, the mean degree is 5.71 and the node degree median is 4.</p><p>The nodes with highest degree centrality are: <a href='http://purl.obolibrary.org/obo/chebi#3_STAR' target='_blank' title='Go to Open Biomedical Ontology to get more informations about OBO:chebi#3_STAR'>OBO:chebi#3_STAR</a> (degree 5169 and node type <a href='https://biolink.github.io/biolink-model/docs/NamedThing.html' target='_blank' title='Go to BioLink to get more informations about biolink:NamedThing'>biolink:NamedThing</a>), <a href='http://purl.obolibrary.org/obo/EXO_0000002' target='_blank' title='Go to Exposure ontology to get more informations about ExO:0000002'>ExO:0000002</a> (degree 2808 and node type <a href='https://biolink.github.io/biolink-model/docs/NamedThing.html' target='_blank' title='Go to BioLink to get more informations about biolink:NamedThing'>biolink:NamedThing</a>), <a href='http://purl.obolibrary.org/obo/uberon/core#pheno_slim' target='_blank' title='Go to Uberon Core to get more informations about UBERON_CORE:pheno_slim'>UBERON_CORE:pheno_slim</a> (degree 637 and node type <a href='https://biolink.github.io/biolink-model/docs/NamedThing.html' target='_blank' title='Go to BioLink to get more informations about biolink:NamedThing'>biolink:NamedThing</a>), <a href='http://purl.obolibrary.org/obo/chebi.owl' target='_blank' title='Go to Open Biomedical Ontology to get more informations about OBO:chebi.owl'>OBO:chebi.owl</a> (degree 474 and node type <a href='https://biolink.github.io/biolink-model/docs/NamedThing.html' target='_blank' title='Go to BioLink to get more informations about biolink:NamedThing'>biolink:NamedThing</a>) and <a href='http://purl.obolibrary.org/obo/ECTO_0000163' target='_blank' title='Go to Environmental conditions, treatments and exposures ontology to get more informations about ECTO:0000163'>ECTO:0000163</a> (degree 449 and node type <a href='https://biolink.github.io/biolink-model/docs/NamedThing.html' target='_blank' title='Go to BioLink to get more informations about biolink:NamedThing'>biolink:NamedThing</a>).</p><h3>Disconnected nodes</h3><p>Disconnected nodes are nodes that are not connected to any other node.The graph contains 216 disconnected nodes.</p><h4>Singleton nodes</h4><p>Singleton nodes are nodes with no edge to other nodes nor selfloops. The graph contains 215 singleton nodes, which are <a href='http://purl.obolibrary.org/obo/exo#interacts_with' target='_blank' title='Go to Open Biomedical Ontology to get more informations about OBO:exo#interacts_with'>OBO:exo#interacts_with</a> (node type <a href='https://biolink.github.io/biolink-model/docs/NamedThing.html' target='_blank' title='Go to BioLink to get more informations about biolink:NamedThing'>biolink:NamedThing</a>), <a href='http://purl.obolibrary.org/obo/RO_0002433' target='_blank' title='Go to Relation Ontology to get more informations about RO:0002433'>RO:0002433</a> (node type <a href='https://biolink.github.io/biolink-model/docs/NamedThing.html' target='_blank' title='Go to BioLink to get more informations about biolink:NamedThing'>biolink:NamedThing</a>), <a href='http://purl.obolibrary.org/obo/chebi#has_parent_hydride' target='_blank' title='Go to Open Biomedical Ontology to get more informations about OBO:chebi#has_parent_hydride'>OBO:chebi#has_parent_hydride</a> (node type <a href='https://biolink.github.io/biolink-model/docs/NamedThing.html' target='_blank' title='Go to BioLink to get more informations about biolink:NamedThing'>biolink:NamedThing</a>), <a href='http://purl.obolibrary.org/obo/uberon/core#filtered_through' target='_blank' title='Go to Uberon Core to get more informations about UBERON_CORE:filtered_through'>UBERON_CORE:filtered_through</a> (node type <a href='https://biolink.github.io/biolink-model/docs/NamedThing.html' target='_blank' title='Go to BioLink to get more informations about biolink:NamedThing'>biolink:NamedThing</a>) and <a href='http://www.geneontology.org/formats/oboInOwl#url' target='_blank' title='Go to Gene Ontology OBO in OWL to get more informations about OIO:url'>OIO:url</a> (node type <a href='https://biolink.github.io/biolink-model/docs/NamedThing.html' target='_blank' title='Go to BioLink to get more informations about biolink:NamedThing'>biolink:NamedThing</a>), plus other 210 singleton nodes.</p><h4>Singleton nodes with selfloops</h4><p>Singleton nodes with selfloops are nodes with no edge to other nodes and have exclusively selfloops. The graph contains a singleton node with selfloop, which is <a href='http://purl.org/dc/terms/license' target='_blank' title='Go to Dublin Core to get more informations about dct:license'>dct:license</a> (degree 1 and node type <a href='https://biolink.github.io/biolink-model/docs/NamedThing.html' target='_blank' title='Go to BioLink to get more informations about biolink:NamedThing'>biolink:NamedThing</a>).</p><h3>Node types</h3><p>The graph has a single node type, which is <a href='https://biolink.github.io/biolink-model/docs/NamedThing.html' target='_blank' title='Go to BioLink to get more informations about biolink:NamedThing'>biolink:NamedThing</a>. Note that this means that all nodes have the same node type, that is, all nodes are homogeneous..</p><h4>RAM requirements</h4><p>The RAM requirements for the node types data structure is 869.39KB.</p><h3>Edge types</h3><p>The graph has 40 edge types, of which the 5 most common are <a href='https://biolink.github.io/biolink-model/docs/subclass_of.html' target='_blank' title='Go to BioLink to get more informations about biolink:subclass_of'>biolink:subclass_of</a> (47209 edges, 47.57%), <a href='https://biolink.github.io/biolink-model/docs/related_to.html' target='_blank' title='Go to BioLink to get more informations about biolink:related_to'>biolink:related_to</a> (29532 edges, 29.76%), <a href='https://biolink.github.io/biolink-model/docs/has_attribute.html' target='_blank' title='Go to BioLink to get more informations about biolink:has_attribute'>biolink:has_attribute</a> (7964 edges, 8.03%), <a href='https://biolink.github.io/biolink-model/docs/close_match.html' target='_blank' title='Go to BioLink to get more informations about biolink:close_match'>biolink:close_match</a> (4131 edges, 4.16%) and <a href='https://biolink.github.io/biolink-model/docs/part_of.html' target='_blank' title='Go to BioLink to get more informations about biolink:part_of'>biolink:part_of</a> (3856 edges, 3.89%).</p><h4>RAM requirements</h4><p>The RAM requirements for the edge types data structure is 407.79KB.</p>"
      ]
     },
     "execution_count": 11,
     "metadata": {},
     "output_type": "execute_result"
    }
   ],
   "source": [
    "g= Graph.from_csv(\n",
    "  directed=directed,\n",
    "  node_path=node_path,\n",
    "  edge_path=edge_path,\n",
    "  verbose=True,\n",
    "  nodes_column='id',\n",
    "  node_list_node_types_column='category',\n",
    "  default_node_type='biolink:NamedThing',\n",
    "  sources_column='subject',\n",
    "  destinations_column='object',\n",
    "  edge_list_edge_types_column='predicate'\n",
    ")\n",
    "g"
   ]
  },
  {
   "cell_type": "markdown",
   "id": "f7ce4324",
   "metadata": {},
   "source": [
    "Now let's generate some negative edge sets. The following method will create a new Graph object with the specified number of edges, where each is a negative edge in the original graph. It doesn't impact nodes at all, so we remove the now-disconnected nodes for the sake of cleanliness."
   ]
  },
  {
   "cell_type": "code",
   "execution_count": 18,
   "id": "42ea0eb7",
   "metadata": {},
   "outputs": [
    {
     "data": {
      "text/html": [
       "<h2>Negative Graph</h2><p>The undirected graph Negative Graph has 17314 homogeneous nodes and 49622 edges.</p><h3>RAM requirements</h3><p>The RAM requirements for the nodes and edges data structures are 4.27MB and 181.86KB respectively.</p><h3>Degree centrality</h3><p>The minimum node degree is 1, the maximum node degree is 16, the mode degree is 5, the mean degree is 5.73 and the node degree median is 6.</p><p>The nodes with highest degree centrality are: <a href='https://www.ebi.ac.uk/chebi/searchId.do?chebiId=CHEBI:32504' target='_blank' title='Go to CHEBI to get more informations about CHEBI:32504'>CHEBI:32504</a> (degree 16 and node type <a href='https://biolink.github.io/biolink-model/docs/NamedThing.html' target='_blank' title='Go to BioLink to get more informations about biolink:NamedThing'>biolink:NamedThing</a>), <a href='https://www.ebi.ac.uk/chebi/searchId.do?chebiId=CHEBI:83328' target='_blank' title='Go to CHEBI to get more informations about CHEBI:83328'>CHEBI:83328</a> (degree 15 and node type <a href='https://biolink.github.io/biolink-model/docs/NamedThing.html' target='_blank' title='Go to BioLink to get more informations about biolink:NamedThing'>biolink:NamedThing</a>), <a href='http://purl.obolibrary.org/obo/UBERON_0000015' target='_blank' title='Go to Uberon multi-species anatomy ontology to get more informations about UBERON:0000015'>UBERON:0000015</a> (degree 15 and node type <a href='https://biolink.github.io/biolink-model/docs/NamedThing.html' target='_blank' title='Go to BioLink to get more informations about biolink:NamedThing'>biolink:NamedThing</a>), <a href='http://purl.obolibrary.org/obo/UBERON_0009583' target='_blank' title='Go to Uberon multi-species anatomy ontology to get more informations about UBERON:0009583'>UBERON:0009583</a> (degree 15 and node type <a href='https://biolink.github.io/biolink-model/docs/NamedThing.html' target='_blank' title='Go to BioLink to get more informations about biolink:NamedThing'>biolink:NamedThing</a>) and <a href='https://www.ebi.ac.uk/chebi/searchId.do?chebiId=CHEBI:31701' target='_blank' title='Go to CHEBI to get more informations about CHEBI:31701'>CHEBI:31701</a> (degree 15 and node type <a href='https://biolink.github.io/biolink-model/docs/NamedThing.html' target='_blank' title='Go to BioLink to get more informations about biolink:NamedThing'>biolink:NamedThing</a>).</p><h3>Node types</h3><p>The graph has a single node type, which is <a href='https://biolink.github.io/biolink-model/docs/NamedThing.html' target='_blank' title='Go to BioLink to get more informations about biolink:NamedThing'>biolink:NamedThing</a>. Note that this means that all nodes have the same node type, that is, all nodes are homogeneous..</p><h4>RAM requirements</h4><p>The RAM requirements for the node types data structure is 866.14KB.</p>"
      ],
      "text/plain": [
       "<h2>Negative Graph</h2><p>The undirected graph Negative Graph has 17314 homogeneous nodes and 49622 edges.</p><h3>RAM requirements</h3><p>The RAM requirements for the nodes and edges data structures are 4.27MB and 181.86KB respectively.</p><h3>Degree centrality</h3><p>The minimum node degree is 1, the maximum node degree is 16, the mode degree is 5, the mean degree is 5.73 and the node degree median is 6.</p><p>The nodes with highest degree centrality are: <a href='https://www.ebi.ac.uk/chebi/searchId.do?chebiId=CHEBI:32504' target='_blank' title='Go to CHEBI to get more informations about CHEBI:32504'>CHEBI:32504</a> (degree 16 and node type <a href='https://biolink.github.io/biolink-model/docs/NamedThing.html' target='_blank' title='Go to BioLink to get more informations about biolink:NamedThing'>biolink:NamedThing</a>), <a href='https://www.ebi.ac.uk/chebi/searchId.do?chebiId=CHEBI:83328' target='_blank' title='Go to CHEBI to get more informations about CHEBI:83328'>CHEBI:83328</a> (degree 15 and node type <a href='https://biolink.github.io/biolink-model/docs/NamedThing.html' target='_blank' title='Go to BioLink to get more informations about biolink:NamedThing'>biolink:NamedThing</a>), <a href='http://purl.obolibrary.org/obo/UBERON_0000015' target='_blank' title='Go to Uberon multi-species anatomy ontology to get more informations about UBERON:0000015'>UBERON:0000015</a> (degree 15 and node type <a href='https://biolink.github.io/biolink-model/docs/NamedThing.html' target='_blank' title='Go to BioLink to get more informations about biolink:NamedThing'>biolink:NamedThing</a>), <a href='http://purl.obolibrary.org/obo/UBERON_0009583' target='_blank' title='Go to Uberon multi-species anatomy ontology to get more informations about UBERON:0009583'>UBERON:0009583</a> (degree 15 and node type <a href='https://biolink.github.io/biolink-model/docs/NamedThing.html' target='_blank' title='Go to BioLink to get more informations about biolink:NamedThing'>biolink:NamedThing</a>) and <a href='https://www.ebi.ac.uk/chebi/searchId.do?chebiId=CHEBI:31701' target='_blank' title='Go to CHEBI to get more informations about CHEBI:31701'>CHEBI:31701</a> (degree 15 and node type <a href='https://biolink.github.io/biolink-model/docs/NamedThing.html' target='_blank' title='Go to BioLink to get more informations about biolink:NamedThing'>biolink:NamedThing</a>).</p><h3>Node types</h3><p>The graph has a single node type, which is <a href='https://biolink.github.io/biolink-model/docs/NamedThing.html' target='_blank' title='Go to BioLink to get more informations about biolink:NamedThing'>biolink:NamedThing</a>. Note that this means that all nodes have the same node type, that is, all nodes are homogeneous..</p><h4>RAM requirements</h4><p>The RAM requirements for the node types data structure is 866.14KB.</p>"
      ]
     },
     "execution_count": 18,
     "metadata": {},
     "output_type": "execute_result"
    }
   ],
   "source": [
    "negative_graph = g.sample_negatives(49622) # Just as many negative examples as positive examples\n",
    "negative_graph = negative_graph.drop_disconnected_nodes()\n",
    "negative_graph"
   ]
  },
  {
   "cell_type": "markdown",
   "id": "b8ffa33f",
   "metadata": {},
   "source": [
    "Now we'll write out those edge files and continue with defining the NEAT configuration."
   ]
  },
  {
   "cell_type": "code",
   "execution_count": 20,
   "id": "d1c6a950",
   "metadata": {},
   "outputs": [],
   "source": [
    "negative_graph.dump_edges(neg_train_edge_path, edges_type_column='predicate')\n",
    "negative_graph.dump_edges(neg_valid_edge_path, edges_type_column='predicate')"
   ]
  },
  {
   "cell_type": "markdown",
   "id": "45dac3a5",
   "metadata": {},
   "source": [
    "## Define embedding parameters"
   ]
  },
  {
   "cell_type": "markdown",
   "id": "b46b8587",
   "metadata": {},
   "source": [
    "These parameters are quite simple for purposes of the demonstration."
   ]
  },
  {
   "cell_type": "code",
   "execution_count": 21,
   "id": "09ca95af",
   "metadata": {},
   "outputs": [],
   "source": [
    "embedding_file_name = \"demo_embeddings.tsv\"\n",
    "embedding_history_file_name = \"embedding_history.json\"\n",
    "node_embedding_method_name = \"CBOW\" # one of 'CBOW', 'GloVe', 'SkipGram', 'Siamese', 'TransE', 'SimplE', 'TransH', 'TransR'\n",
    "walk_length = 10 # typically 100 or so\n",
    "batch_size = 128 # typically 512? or more\n",
    "window_size = 4\n",
    "iterations = 5 # typically 20 or more"
   ]
  },
  {
   "cell_type": "markdown",
   "id": "4ecbfb5c",
   "metadata": {},
   "source": [
    "## Define classifier parameters"
   ]
  },
  {
   "cell_type": "markdown",
   "id": "759b6a11",
   "metadata": {},
   "source": [
    "Here, we define a single classifier, but NEAT will accept a list of multiple classifier types.\n",
    "\n",
    "We're going to set it up as if we were building a link prediction model. NEAT would prefer to have positive *and* negative training/validation data for this. Conveniently, we've provided paths to those above. "
   ]
  },
  {
   "cell_type": "code",
   "execution_count": 22,
   "id": "eb471551",
   "metadata": {},
   "outputs": [],
   "source": [
    "edge_method = \"Average\" # one of EdgeTransformer.methods: Hadamard, Sum, Average, L1, AbsoluteL1, L2, or alternatively a lambda\n",
    "classifier_type = \"Logistic Regression\"\n",
    "classifier_model_outfile = \"model_lr_demo\"\n",
    "classifier_model_type = \"sklearn.linear_model.LogisticRegression\"\n",
    "classifier_model_random_state = 42\n",
    "classifier_model_max_iter = 1000"
   ]
  },
  {
   "cell_type": "markdown",
   "id": "76e520a6",
   "metadata": {},
   "source": [
    "## Define output parameters"
   ]
  },
  {
   "cell_type": "markdown",
   "id": "7e6e2ff5",
   "metadata": {},
   "source": [
    "We specify a local output path here, but NEAT can also upload to S3, given a bucket name and directory."
   ]
  },
  {
   "cell_type": "code",
   "execution_count": 23,
   "id": "8762ad01",
   "metadata": {},
   "outputs": [],
   "source": [
    "output_directory = \"./\"\n",
    "\n",
    "config_filename = \"demonstrate.yaml\""
   ]
  },
  {
   "cell_type": "markdown",
   "id": "7393e03b",
   "metadata": {},
   "source": [
    "## Wrap it all up"
   ]
  },
  {
   "cell_type": "code",
   "execution_count": 24,
   "id": "51cf369e",
   "metadata": {},
   "outputs": [
    {
     "name": "stdout",
     "output_type": "stream",
     "text": [
      "\n",
      "graph_data:\n",
      "  graph:\n",
      "    directed: False\n",
      "    node_path: ecto_kgx_tsv_nodes.tsv\n",
      "    edge_path: ecto_kgx_tsv_edges.tsv\n",
      "    verbose: True\n",
      "    nodes_column: 'id'\n",
      "    node_list_node_types_column: 'category'\n",
      "    default_node_type: 'biolink:NamedThing'\n",
      "    sources_column: 'subject'\n",
      "    destinations_column: 'object'\n",
      "    default_edge_type: 'biolink:related_to'\n",
      "  pos_validation:\n",
      "    edge_path: ecto_kgx_tsv_edges.tsv\n",
      "  neg_training:\n",
      "    edge_path: negative_edges.tsv\n",
      "  neg_validation:\n",
      "    edge_path: negative_valid_edges.tsv\n",
      "\n",
      "embeddings:\n",
      "  embedding_file_name: demo_embeddings.tsv\n",
      "  embedding_history_file_name: embedding_history.json\n",
      "  node_embedding_params:\n",
      "      node_embedding_method_name: CBOW\n",
      "      walk_length: 10\n",
      "      batch_size: 128\n",
      "      window_size: 4\n",
      "      return_weight: 1.0\n",
      "      explore_weight: 1.0\n",
      "      iterations: 5\n",
      "      use_mirrored_strategy: False\n",
      "\n",
      "  tsne:\n",
      "    tsne_file_name: tsne.png\n",
      "\n",
      "classifier:\n",
      "  edge_method: Average\n",
      "  classifiers:\n",
      "    - type: Logistic Regression\n",
      "      model:\n",
      "        outfile: model_lr_demo\n",
      "        type: sklearn.linear_model.LogisticRegression\n",
      "        parameters:\n",
      "          random_state: 42\n",
      "          max_iter: 1000\n",
      "\n",
      "output_directory: ./\n",
      "\n"
     ]
    }
   ],
   "source": [
    "outstring = f\"\"\"\n",
    "graph_data:\n",
    "  graph:\n",
    "    directed: {directed}\n",
    "    node_path: {node_path}\n",
    "    edge_path: {edge_path}\n",
    "    verbose: True\n",
    "    nodes_column: 'id'\n",
    "    node_list_node_types_column: 'category'\n",
    "    default_node_type: 'biolink:NamedThing'\n",
    "    sources_column: 'subject'\n",
    "    destinations_column: 'object'\n",
    "    default_edge_type: 'biolink:related_to'\n",
    "  pos_validation:\n",
    "    edge_path: {pos_valid_edge_path}\n",
    "  neg_training:\n",
    "    edge_path: {neg_train_edge_path}\n",
    "  neg_validation:\n",
    "    edge_path: {neg_valid_edge_path}\n",
    "\n",
    "embeddings:\n",
    "  embedding_file_name: {embedding_file_name}\n",
    "  embedding_history_file_name: {embedding_history_file_name}\n",
    "  node_embedding_params:\n",
    "      node_embedding_method_name: {node_embedding_method_name}\n",
    "      walk_length: {walk_length}\n",
    "      batch_size: {batch_size}\n",
    "      window_size: {window_size}\n",
    "      return_weight: 1.0\n",
    "      explore_weight: 1.0\n",
    "      iterations: {iterations}\n",
    "      use_mirrored_strategy: False\n",
    "\n",
    "  tsne:\n",
    "    tsne_file_name: tsne.png\n",
    "\n",
    "classifier:\n",
    "  edge_method: {edge_method}\n",
    "  classifiers:\n",
    "    - type: {classifier_type}\n",
    "      model:\n",
    "        outfile: {classifier_model_outfile}\n",
    "        type: {classifier_model_type}\n",
    "        parameters:\n",
    "          random_state: {classifier_model_random_state}\n",
    "          max_iter: {classifier_model_max_iter}\n",
    "\n",
    "output_directory: {output_directory}\n",
    "\"\"\"\n",
    "print(outstring)"
   ]
  },
  {
   "cell_type": "code",
   "execution_count": 25,
   "id": "0bec1d0c",
   "metadata": {},
   "outputs": [],
   "source": [
    "with open(config_filename, \"w\") as outfile:\n",
    "    outfile.write(outstring)"
   ]
  },
  {
   "cell_type": "code",
   "execution_count": 26,
   "id": "d019d3f7",
   "metadata": {},
   "outputs": [
    {
     "name": "stdout",
     "output_type": "stream",
     "text": [
      "Traceback (most recent call last):\r\n",
      "  File \"/home/harry/neat-env/bin/neat\", line 8, in <module>\r\n",
      "    sys.exit(cli())\r\n",
      "  File \"/home/harry/neat-env/lib/python3.8/site-packages/click/core.py\", line 1128, in __call__\r\n",
      "    return self.main(*args, **kwargs)\r\n",
      "  File \"/home/harry/neat-env/lib/python3.8/site-packages/click/core.py\", line 1053, in main\r\n",
      "    rv = self.invoke(ctx)\r\n",
      "  File \"/home/harry/neat-env/lib/python3.8/site-packages/click/core.py\", line 1659, in invoke\r\n",
      "    return _process_result(sub_ctx.command.invoke(sub_ctx))\r\n",
      "  File \"/home/harry/neat-env/lib/python3.8/site-packages/click/core.py\", line 1395, in invoke\r\n",
      "    return ctx.invoke(self.callback, **ctx.params)\r\n",
      "  File \"/home/harry/neat-env/lib/python3.8/site-packages/click/core.py\", line 754, in invoke\r\n",
      "    return __callback(*args, **kwargs)\r\n",
      "  File \"/home/harry/neat-env/lib/python3.8/site-packages/neat/cli.py\", line 41, in run\r\n",
      "    if not pre_run_checks(yhelp=yhelp):\r\n",
      "  File \"/home/harry/neat-env/lib/python3.8/site-packages/neat/pre_run_checks/pre_run_checks.py\", line 29, in pre_run_checks\r\n",
      "    client.list_buckets()  # to check credentials\r\n",
      "  File \"/home/harry/neat-env/lib/python3.8/site-packages/botocore/client.py\", line 395, in _api_call\r\n",
      "    return self._make_api_call(operation_name, kwargs)\r\n",
      "  File \"/home/harry/neat-env/lib/python3.8/site-packages/botocore/client.py\", line 711, in _make_api_call\r\n",
      "    http, parsed_response = self._make_request(\r\n",
      "  File \"/home/harry/neat-env/lib/python3.8/site-packages/botocore/client.py\", line 731, in _make_request\r\n",
      "    return self._endpoint.make_request(operation_model, request_dict)\r\n",
      "  File \"/home/harry/neat-env/lib/python3.8/site-packages/botocore/endpoint.py\", line 107, in make_request\r\n",
      "    return self._send_request(request_dict, operation_model)\r\n",
      "  File \"/home/harry/neat-env/lib/python3.8/site-packages/botocore/endpoint.py\", line 180, in _send_request\r\n",
      "    request = self.create_request(request_dict, operation_model)\r\n",
      "  File \"/home/harry/neat-env/lib/python3.8/site-packages/botocore/endpoint.py\", line 120, in create_request\r\n",
      "    self._event_emitter.emit(event_name, request=request,\r\n",
      "  File \"/home/harry/neat-env/lib/python3.8/site-packages/botocore/hooks.py\", line 357, in emit\r\n",
      "    return self._emitter.emit(aliased_event_name, **kwargs)\r\n",
      "  File \"/home/harry/neat-env/lib/python3.8/site-packages/botocore/hooks.py\", line 228, in emit\r\n",
      "    return self._emit(event_name, kwargs)\r\n",
      "  File \"/home/harry/neat-env/lib/python3.8/site-packages/botocore/hooks.py\", line 211, in _emit\r\n",
      "    response = handler(**kwargs)\r\n",
      "  File \"/home/harry/neat-env/lib/python3.8/site-packages/botocore/signers.py\", line 93, in handler\r\n",
      "    return self.sign(operation_name, request)\r\n",
      "  File \"/home/harry/neat-env/lib/python3.8/site-packages/botocore/signers.py\", line 165, in sign\r\n",
      "    auth.add_auth(request)\r\n",
      "  File \"/home/harry/neat-env/lib/python3.8/site-packages/botocore/auth.py\", line 388, in add_auth\r\n",
      "    raise NoCredentialsError()\r\n",
      "botocore.exceptions.NoCredentialsError: Unable to locate credentials\r\n"
     ]
    }
   ],
   "source": [
    "!neat run --config $config_filename"
   ]
  },
  {
   "cell_type": "code",
   "execution_count": null,
   "id": "6d682071",
   "metadata": {},
   "outputs": [],
   "source": [
    "from IPython.display import Image\n",
    "Image(filename='tsne.png') "
   ]
  },
  {
   "cell_type": "code",
   "execution_count": null,
   "id": "e259df92",
   "metadata": {},
   "outputs": [],
   "source": []
  }
 ],
 "metadata": {
  "kernelspec": {
   "display_name": "Python 3 (ipykernel)",
   "language": "python",
   "name": "python3"
  },
  "language_info": {
   "codemirror_mode": {
    "name": "ipython",
    "version": 3
   },
   "file_extension": ".py",
   "mimetype": "text/x-python",
   "name": "python",
   "nbconvert_exporter": "python",
   "pygments_lexer": "ipython3",
   "version": "3.8.10"
  }
 },
 "nbformat": 4,
 "nbformat_minor": 5
}
